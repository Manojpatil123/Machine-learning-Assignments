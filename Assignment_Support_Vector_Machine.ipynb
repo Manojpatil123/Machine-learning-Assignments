{
  "nbformat": 4,
  "nbformat_minor": 0,
  "metadata": {
    "kernelspec": {
      "display_name": "Python 3",
      "language": "python",
      "name": "python3"
    },
    "language_info": {
      "codemirror_mode": {
        "name": "ipython",
        "version": 3
      },
      "file_extension": ".py",
      "mimetype": "text/x-python",
      "name": "python",
      "nbconvert_exporter": "python",
      "pygments_lexer": "ipython3",
      "version": "3.7.1"
    },
    "colab": {
      "name": "Assignment Solution - Support Vector Machine.ipynb",
      "provenance": [],
      "collapsed_sections": [],
      "include_colab_link": true
    }
  },
  "cells": [
    {
      "cell_type": "markdown",
      "metadata": {
        "id": "view-in-github",
        "colab_type": "text"
      },
      "source": [
        "<a href=\"https://colab.research.google.com/github/Manojpatil123/Machine-learning-Assignments/blob/main/Assignment_Support_Vector_Machine.ipynb\" target=\"_parent\"><img src=\"https://colab.research.google.com/assets/colab-badge.svg\" alt=\"Open In Colab\"/></a>"
      ]
    },
    {
      "cell_type": "markdown",
      "metadata": {
        "id": "PYsTFWXYjCxF"
      },
      "source": [
        "# <u><b> Objective </b></u>\n",
        "## <b> You are given a data of US Airline tweets and their sentiment. The task is to do sentiment analysis about the problems of each major U.S. airline. Twitter data was scraped from February of 2015 and contributors were asked to first classify positive, negative, and neutral tweets, followed by categorizing negative reasons (such as \"late flight\" or \"rude service\"). </b>\n",
        "\n",
        "<br>\n",
        "<br>\n",
        "\n",
        "## <b>Things to do :</b>\n",
        "* ### Read the tweets.csv data, clean and tokenize the tweets using nltk library.\n",
        "* ### Count vectorize the tweets so that you end up with a sparse matrix (which will be your $X$). \n",
        "* ### You are supposed to build a SVM classifier (a binary classification in fact). Since the data contains three levels of sentiment(positive, negative and neutral), you should remove the sentences which are neutral. Once you do that you will have two classes only (positive and negative). You can set the label of positive tweets to 1 and negative tweets to 0.\n",
        "* ### Once you have built the SVM classifier, evaluate this model across various metrics. Also plot the ROC curve and Precision-Recall curve. Report the areas under these two curves along with other metrics.\n",
        "* ### Perform GridSearch cross validation for various values of $C$ and $gamma$. These will be the hyperparameters which you would play around with.\n",
        "* ### Explain your observations and the underlying reasons for these.\n",
        "* ### Try checking if <code>tfidfvectorizer</code> helps you gain lift in model's performance.\n",
        "\n",
        "\n",
        "\n"
      ]
    },
    {
      "cell_type": "code",
      "metadata": {
        "id": "Ah_20SDKV7Ao"
      },
      "source": [
        "import pandas as pd\n",
        "import matplotlib as plt\n",
        "import seaborn as sns\n",
        "from sklearn.metrics import accuracy_score, confusion_matrix, classification_report, roc_auc_score, plot_precision_recall_curve\n"
      ],
      "execution_count": null,
      "outputs": []
    },
    {
      "cell_type": "code",
      "metadata": {
        "id": "O_H75l82z2F_"
      },
      "source": [
        ""
      ],
      "execution_count": null,
      "outputs": []
    },
    {
      "cell_type": "code",
      "metadata": {
        "colab": {
          "base_uri": "https://localhost:8080/"
        },
        "id": "f4tlc-Fiz3dw",
        "outputId": "fcfd5227-222c-4c97-ed18-1d256ac1ad2d"
      },
      "source": [
        "from google.colab import drive\n",
        "drive.mount('/content/drive')"
      ],
      "execution_count": null,
      "outputs": [
        {
          "output_type": "stream",
          "text": [
            "Drive already mounted at /content/drive; to attempt to forcibly remount, call drive.mount(\"/content/drive\", force_remount=True).\n"
          ],
          "name": "stdout"
        }
      ]
    },
    {
      "cell_type": "code",
      "metadata": {
        "id": "44g-qdI40KKQ"
      },
      "source": [
        "df=pd.read_csv('/content/drive/MyDrive/AlmaBetter/Module 3/Week 3/Day 3/Tweets.csv')"
      ],
      "execution_count": null,
      "outputs": []
    },
    {
      "cell_type": "code",
      "metadata": {
        "colab": {
          "base_uri": "https://localhost:8080/",
          "height": 633
        },
        "id": "yE3qgdxW0evm",
        "outputId": "12aed0a0-0f91-4623-bcc1-e027c302fc5d"
      },
      "source": [
        "df.head()"
      ],
      "execution_count": null,
      "outputs": [
        {
          "output_type": "execute_result",
          "data": {
            "text/html": [
              "<div>\n",
              "<style scoped>\n",
              "    .dataframe tbody tr th:only-of-type {\n",
              "        vertical-align: middle;\n",
              "    }\n",
              "\n",
              "    .dataframe tbody tr th {\n",
              "        vertical-align: top;\n",
              "    }\n",
              "\n",
              "    .dataframe thead th {\n",
              "        text-align: right;\n",
              "    }\n",
              "</style>\n",
              "<table border=\"1\" class=\"dataframe\">\n",
              "  <thead>\n",
              "    <tr style=\"text-align: right;\">\n",
              "      <th></th>\n",
              "      <th>tweet_id</th>\n",
              "      <th>airline_sentiment</th>\n",
              "      <th>airline_sentiment_confidence</th>\n",
              "      <th>negativereason</th>\n",
              "      <th>negativereason_confidence</th>\n",
              "      <th>airline</th>\n",
              "      <th>airline_sentiment_gold</th>\n",
              "      <th>name</th>\n",
              "      <th>negativereason_gold</th>\n",
              "      <th>retweet_count</th>\n",
              "      <th>text</th>\n",
              "      <th>tweet_coord</th>\n",
              "      <th>tweet_created</th>\n",
              "      <th>tweet_location</th>\n",
              "      <th>user_timezone</th>\n",
              "    </tr>\n",
              "  </thead>\n",
              "  <tbody>\n",
              "    <tr>\n",
              "      <th>0</th>\n",
              "      <td>570306133677760513</td>\n",
              "      <td>neutral</td>\n",
              "      <td>1.0000</td>\n",
              "      <td>NaN</td>\n",
              "      <td>NaN</td>\n",
              "      <td>Virgin America</td>\n",
              "      <td>NaN</td>\n",
              "      <td>cairdin</td>\n",
              "      <td>NaN</td>\n",
              "      <td>0</td>\n",
              "      <td>@VirginAmerica What @dhepburn said.</td>\n",
              "      <td>NaN</td>\n",
              "      <td>2015-02-24 11:35:52 -0800</td>\n",
              "      <td>NaN</td>\n",
              "      <td>Eastern Time (US &amp; Canada)</td>\n",
              "    </tr>\n",
              "    <tr>\n",
              "      <th>1</th>\n",
              "      <td>570301130888122368</td>\n",
              "      <td>positive</td>\n",
              "      <td>0.3486</td>\n",
              "      <td>NaN</td>\n",
              "      <td>0.0000</td>\n",
              "      <td>Virgin America</td>\n",
              "      <td>NaN</td>\n",
              "      <td>jnardino</td>\n",
              "      <td>NaN</td>\n",
              "      <td>0</td>\n",
              "      <td>@VirginAmerica plus you've added commercials to the experience... tacky.</td>\n",
              "      <td>NaN</td>\n",
              "      <td>2015-02-24 11:15:59 -0800</td>\n",
              "      <td>NaN</td>\n",
              "      <td>Pacific Time (US &amp; Canada)</td>\n",
              "    </tr>\n",
              "    <tr>\n",
              "      <th>2</th>\n",
              "      <td>570301083672813571</td>\n",
              "      <td>neutral</td>\n",
              "      <td>0.6837</td>\n",
              "      <td>NaN</td>\n",
              "      <td>NaN</td>\n",
              "      <td>Virgin America</td>\n",
              "      <td>NaN</td>\n",
              "      <td>yvonnalynn</td>\n",
              "      <td>NaN</td>\n",
              "      <td>0</td>\n",
              "      <td>@VirginAmerica I didn't today... Must mean I need to take another trip!</td>\n",
              "      <td>NaN</td>\n",
              "      <td>2015-02-24 11:15:48 -0800</td>\n",
              "      <td>Lets Play</td>\n",
              "      <td>Central Time (US &amp; Canada)</td>\n",
              "    </tr>\n",
              "    <tr>\n",
              "      <th>3</th>\n",
              "      <td>570301031407624196</td>\n",
              "      <td>negative</td>\n",
              "      <td>1.0000</td>\n",
              "      <td>Bad Flight</td>\n",
              "      <td>0.7033</td>\n",
              "      <td>Virgin America</td>\n",
              "      <td>NaN</td>\n",
              "      <td>jnardino</td>\n",
              "      <td>NaN</td>\n",
              "      <td>0</td>\n",
              "      <td>@VirginAmerica it's really aggressive to blast obnoxious \"entertainment\" in your guests' faces &amp;amp; they have little recourse</td>\n",
              "      <td>NaN</td>\n",
              "      <td>2015-02-24 11:15:36 -0800</td>\n",
              "      <td>NaN</td>\n",
              "      <td>Pacific Time (US &amp; Canada)</td>\n",
              "    </tr>\n",
              "    <tr>\n",
              "      <th>4</th>\n",
              "      <td>570300817074462722</td>\n",
              "      <td>negative</td>\n",
              "      <td>1.0000</td>\n",
              "      <td>Can't Tell</td>\n",
              "      <td>1.0000</td>\n",
              "      <td>Virgin America</td>\n",
              "      <td>NaN</td>\n",
              "      <td>jnardino</td>\n",
              "      <td>NaN</td>\n",
              "      <td>0</td>\n",
              "      <td>@VirginAmerica and it's a really big bad thing about it</td>\n",
              "      <td>NaN</td>\n",
              "      <td>2015-02-24 11:14:45 -0800</td>\n",
              "      <td>NaN</td>\n",
              "      <td>Pacific Time (US &amp; Canada)</td>\n",
              "    </tr>\n",
              "  </tbody>\n",
              "</table>\n",
              "</div>"
            ],
            "text/plain": [
              "             tweet_id  ...               user_timezone\n",
              "0  570306133677760513  ...  Eastern Time (US & Canada)\n",
              "1  570301130888122368  ...  Pacific Time (US & Canada)\n",
              "2  570301083672813571  ...  Central Time (US & Canada)\n",
              "3  570301031407624196  ...  Pacific Time (US & Canada)\n",
              "4  570300817074462722  ...  Pacific Time (US & Canada)\n",
              "\n",
              "[5 rows x 15 columns]"
            ]
          },
          "metadata": {
            "tags": []
          },
          "execution_count": 48
        }
      ]
    },
    {
      "cell_type": "code",
      "metadata": {
        "colab": {
          "base_uri": "https://localhost:8080/"
        },
        "id": "8A9Ed85m0ghH",
        "outputId": "a25daad9-05ff-4e42-d714-607acb0fb775"
      },
      "source": [
        "df.info()"
      ],
      "execution_count": null,
      "outputs": [
        {
          "output_type": "stream",
          "text": [
            "<class 'pandas.core.frame.DataFrame'>\n",
            "RangeIndex: 14640 entries, 0 to 14639\n",
            "Data columns (total 15 columns):\n",
            " #   Column                        Non-Null Count  Dtype  \n",
            "---  ------                        --------------  -----  \n",
            " 0   tweet_id                      14640 non-null  int64  \n",
            " 1   airline_sentiment             14640 non-null  object \n",
            " 2   airline_sentiment_confidence  14640 non-null  float64\n",
            " 3   negativereason                9178 non-null   object \n",
            " 4   negativereason_confidence     10522 non-null  float64\n",
            " 5   airline                       14640 non-null  object \n",
            " 6   airline_sentiment_gold        40 non-null     object \n",
            " 7   name                          14640 non-null  object \n",
            " 8   negativereason_gold           32 non-null     object \n",
            " 9   retweet_count                 14640 non-null  int64  \n",
            " 10  text                          14640 non-null  object \n",
            " 11  tweet_coord                   1019 non-null   object \n",
            " 12  tweet_created                 14640 non-null  object \n",
            " 13  tweet_location                9907 non-null   object \n",
            " 14  user_timezone                 9820 non-null   object \n",
            "dtypes: float64(2), int64(2), object(11)\n",
            "memory usage: 1.7+ MB\n"
          ],
          "name": "stdout"
        }
      ]
    },
    {
      "cell_type": "markdown",
      "metadata": {
        "id": "ovVo9PDX2R3b"
      },
      "source": [
        "We are mainly concerned with the airline sentiment and text column which look fine based on info."
      ]
    },
    {
      "cell_type": "code",
      "metadata": {
        "colab": {
          "base_uri": "https://localhost:8080/",
          "height": 288
        },
        "id": "Ohps71DS0887",
        "outputId": "00c6aabe-b9d0-47f8-8be5-195a2745fda6"
      },
      "source": [
        "df.describe()"
      ],
      "execution_count": null,
      "outputs": [
        {
          "output_type": "execute_result",
          "data": {
            "text/html": [
              "<div>\n",
              "<style scoped>\n",
              "    .dataframe tbody tr th:only-of-type {\n",
              "        vertical-align: middle;\n",
              "    }\n",
              "\n",
              "    .dataframe tbody tr th {\n",
              "        vertical-align: top;\n",
              "    }\n",
              "\n",
              "    .dataframe thead th {\n",
              "        text-align: right;\n",
              "    }\n",
              "</style>\n",
              "<table border=\"1\" class=\"dataframe\">\n",
              "  <thead>\n",
              "    <tr style=\"text-align: right;\">\n",
              "      <th></th>\n",
              "      <th>tweet_id</th>\n",
              "      <th>airline_sentiment_confidence</th>\n",
              "      <th>negativereason_confidence</th>\n",
              "      <th>retweet_count</th>\n",
              "    </tr>\n",
              "  </thead>\n",
              "  <tbody>\n",
              "    <tr>\n",
              "      <th>count</th>\n",
              "      <td>1.464000e+04</td>\n",
              "      <td>14640.000000</td>\n",
              "      <td>10522.000000</td>\n",
              "      <td>14640.000000</td>\n",
              "    </tr>\n",
              "    <tr>\n",
              "      <th>mean</th>\n",
              "      <td>5.692184e+17</td>\n",
              "      <td>0.900169</td>\n",
              "      <td>0.638298</td>\n",
              "      <td>0.082650</td>\n",
              "    </tr>\n",
              "    <tr>\n",
              "      <th>std</th>\n",
              "      <td>7.791112e+14</td>\n",
              "      <td>0.162830</td>\n",
              "      <td>0.330440</td>\n",
              "      <td>0.745778</td>\n",
              "    </tr>\n",
              "    <tr>\n",
              "      <th>min</th>\n",
              "      <td>5.675883e+17</td>\n",
              "      <td>0.335000</td>\n",
              "      <td>0.000000</td>\n",
              "      <td>0.000000</td>\n",
              "    </tr>\n",
              "    <tr>\n",
              "      <th>25%</th>\n",
              "      <td>5.685592e+17</td>\n",
              "      <td>0.692300</td>\n",
              "      <td>0.360600</td>\n",
              "      <td>0.000000</td>\n",
              "    </tr>\n",
              "    <tr>\n",
              "      <th>50%</th>\n",
              "      <td>5.694779e+17</td>\n",
              "      <td>1.000000</td>\n",
              "      <td>0.670600</td>\n",
              "      <td>0.000000</td>\n",
              "    </tr>\n",
              "    <tr>\n",
              "      <th>75%</th>\n",
              "      <td>5.698905e+17</td>\n",
              "      <td>1.000000</td>\n",
              "      <td>1.000000</td>\n",
              "      <td>0.000000</td>\n",
              "    </tr>\n",
              "    <tr>\n",
              "      <th>max</th>\n",
              "      <td>5.703106e+17</td>\n",
              "      <td>1.000000</td>\n",
              "      <td>1.000000</td>\n",
              "      <td>44.000000</td>\n",
              "    </tr>\n",
              "  </tbody>\n",
              "</table>\n",
              "</div>"
            ],
            "text/plain": [
              "           tweet_id  ...  retweet_count\n",
              "count  1.464000e+04  ...  14640.000000 \n",
              "mean   5.692184e+17  ...  0.082650     \n",
              "std    7.791112e+14  ...  0.745778     \n",
              "min    5.675883e+17  ...  0.000000     \n",
              "25%    5.685592e+17  ...  0.000000     \n",
              "50%    5.694779e+17  ...  0.000000     \n",
              "75%    5.698905e+17  ...  0.000000     \n",
              "max    5.703106e+17  ...  44.000000    \n",
              "\n",
              "[8 rows x 4 columns]"
            ]
          },
          "metadata": {
            "tags": []
          },
          "execution_count": 50
        }
      ]
    },
    {
      "cell_type": "code",
      "metadata": {
        "colab": {
          "base_uri": "https://localhost:8080/",
          "height": 298
        },
        "id": "JDCx7fph1JN6",
        "outputId": "a30a37d9-711c-4978-80a8-e34bb6bfcc54"
      },
      "source": [
        "sns.countplot(x=df['airline_sentiment'])"
      ],
      "execution_count": null,
      "outputs": [
        {
          "output_type": "execute_result",
          "data": {
            "text/plain": [
              "<matplotlib.axes._subplots.AxesSubplot at 0x7f48d6a90710>"
            ]
          },
          "metadata": {
            "tags": []
          },
          "execution_count": 51
        },
        {
          "output_type": "display_data",
          "data": {
            "image/png": "[encoded data removed]",
            "text/plain": [
              "<Figure size 432x288 with 1 Axes>"
            ]
          },
          "metadata": {
            "tags": [],
            "needs_background": "light"
          }
        }
      ]
    },
    {
      "cell_type": "markdown",
      "metadata": {
        "id": "mu2H8C7y2l_o"
      },
      "source": [
        "Most tweets are negative according to the airline."
      ]
    },
    {
      "cell_type": "code",
      "metadata": {
        "id": "p5ERiTs72d-A"
      },
      "source": [
        "df['length']=df['text'].apply(len)\n"
      ],
      "execution_count": null,
      "outputs": []
    },
    {
      "cell_type": "code",
      "metadata": {
        "colab": {
          "base_uri": "https://localhost:8080/",
          "height": 283
        },
        "id": "WdtKeodN1YjF",
        "outputId": "14980303-1745-4b5d-eb80-540ed4cff42e"
      },
      "source": [
        "df['length'].plot(bins=50,kind='hist')"
      ],
      "execution_count": null,
      "outputs": [
        {
          "output_type": "execute_result",
          "data": {
            "text/plain": [
              "<matplotlib.axes._subplots.AxesSubplot at 0x7f48d65c0ef0>"
            ]
          },
          "metadata": {
            "tags": []
          },
          "execution_count": 53
        },
        {
          "output_type": "display_data",
          "data": {
            "image/png": "[encoded data removed]",
            "text/plain": [
              "<Figure size 432x288 with 1 Axes>"
            ]
          },
          "metadata": {
            "tags": [],
            "needs_background": "light"
          }
        }
      ]
    },
    {
      "cell_type": "code",
      "metadata": {
        "colab": {
          "base_uri": "https://localhost:8080/"
        },
        "id": "BCBsgSSG3cFt",
        "outputId": "dbc516a2-6a6c-4e44-9059-0fa2f7647802"
      },
      "source": [
        "df['length'].describe()"
      ],
      "execution_count": null,
      "outputs": [
        {
          "output_type": "execute_result",
          "data": {
            "text/plain": [
              "count    14640.000000\n",
              "mean     103.822063  \n",
              "std      36.277339   \n",
              "min      12.000000   \n",
              "25%      77.000000   \n",
              "50%      114.000000  \n",
              "75%      136.000000  \n",
              "max      186.000000  \n",
              "Name: length, dtype: float64"
            ]
          },
          "metadata": {
            "tags": []
          },
          "execution_count": 54
        }
      ]
    },
    {
      "cell_type": "code",
      "metadata": {
        "colab": {
          "base_uri": "https://localhost:8080/",
          "height": 35
        },
        "id": "HNIQrd-W3gg8",
        "outputId": "c8956c49-352d-468a-b468-45fbaefd9e2c"
      },
      "source": [
        "df[df['length']==186]['text'].iloc[0]"
      ],
      "execution_count": null,
      "outputs": [
        {
          "output_type": "execute_result",
          "data": {
            "application/vnd.google.colaboratory.intrinsic+json": {
              "type": "string"
            },
            "text/plain": [
              "\"@USAirways Eyyyy! Cancelled Flightlations, Flight Booking Problemss, reFlight Booking Problemss, but y'all got me on the same flight out tonight (not tomorrow) &amp; the FC upgrade. Thx!\""
            ]
          },
          "metadata": {
            "tags": []
          },
          "execution_count": 55
        }
      ]
    },
    {
      "cell_type": "markdown",
      "metadata": {
        "id": "-pQ58lfC38_q"
      },
      "source": [
        "##**Text Pre-Processing**"
      ]
    },
    {
      "cell_type": "code",
      "metadata": {
        "colab": {
          "base_uri": "https://localhost:8080/"
        },
        "id": "ZewTI__A3pOZ",
        "outputId": "d24416f7-0db2-414f-ff94-4a800a1e87f7"
      },
      "source": [
        "#Get rid of stop words and punctuations\n",
        "import nltk\n",
        "nltk.download('stopwords')"
      ],
      "execution_count": null,
      "outputs": [
        {
          "output_type": "stream",
          "text": [
            "[nltk_data] Downloading package stopwords to /root/nltk_data...\n",
            "[nltk_data]   Package stopwords is already up-to-date!\n"
          ],
          "name": "stdout"
        },
        {
          "output_type": "execute_result",
          "data": {
            "text/plain": [
              "True"
            ]
          },
          "metadata": {
            "tags": []
          },
          "execution_count": 56
        }
      ]
    },
    {
      "cell_type": "code",
      "metadata": {
        "id": "EeB8MegW4MZP"
      },
      "source": [
        "import string\n",
        "from nltk.corpus import stopwords"
      ],
      "execution_count": null,
      "outputs": []
    },
    {
      "cell_type": "code",
      "metadata": {
        "id": "MC7gTuvs41Xt"
      },
      "source": [
        "stopset=stopwords.words('english')"
      ],
      "execution_count": null,
      "outputs": []
    },
    {
      "cell_type": "code",
      "metadata": {
        "id": "ph5Y9Urf5AkH"
      },
      "source": [
        "#Function to remove punctuations\n",
        "def text_process(msg):\n",
        "    nopunc =[char for char in msg if char not in string.punctuation]\n",
        "    nopunc=''.join(nopunc)\n",
        "    return ' '.join([word for word in nopunc.split() if word.lower() not in stopwords.words('english')])"
      ],
      "execution_count": null,
      "outputs": []
    },
    {
      "cell_type": "code",
      "metadata": {
        "colab": {
          "base_uri": "https://localhost:8080/",
          "height": 633
        },
        "id": "w3I56Whl5S5b",
        "outputId": "92ea2ac0-68fd-44c7-ae71-6334be6ad71a"
      },
      "source": [
        "df.head()"
      ],
      "execution_count": null,
      "outputs": [
        {
          "output_type": "execute_result",
          "data": {
            "text/html": [
              "<div>\n",
              "<style scoped>\n",
              "    .dataframe tbody tr th:only-of-type {\n",
              "        vertical-align: middle;\n",
              "    }\n",
              "\n",
              "    .dataframe tbody tr th {\n",
              "        vertical-align: top;\n",
              "    }\n",
              "\n",
              "    .dataframe thead th {\n",
              "        text-align: right;\n",
              "    }\n",
              "</style>\n",
              "<table border=\"1\" class=\"dataframe\">\n",
              "  <thead>\n",
              "    <tr style=\"text-align: right;\">\n",
              "      <th></th>\n",
              "      <th>tweet_id</th>\n",
              "      <th>airline_sentiment</th>\n",
              "      <th>airline_sentiment_confidence</th>\n",
              "      <th>negativereason</th>\n",
              "      <th>negativereason_confidence</th>\n",
              "      <th>airline</th>\n",
              "      <th>airline_sentiment_gold</th>\n",
              "      <th>name</th>\n",
              "      <th>negativereason_gold</th>\n",
              "      <th>retweet_count</th>\n",
              "      <th>text</th>\n",
              "      <th>tweet_coord</th>\n",
              "      <th>tweet_created</th>\n",
              "      <th>tweet_location</th>\n",
              "      <th>user_timezone</th>\n",
              "      <th>length</th>\n",
              "    </tr>\n",
              "  </thead>\n",
              "  <tbody>\n",
              "    <tr>\n",
              "      <th>0</th>\n",
              "      <td>570306133677760513</td>\n",
              "      <td>neutral</td>\n",
              "      <td>1.0000</td>\n",
              "      <td>NaN</td>\n",
              "      <td>NaN</td>\n",
              "      <td>Virgin America</td>\n",
              "      <td>NaN</td>\n",
              "      <td>cairdin</td>\n",
              "      <td>NaN</td>\n",
              "      <td>0</td>\n",
              "      <td>@VirginAmerica What @dhepburn said.</td>\n",
              "      <td>NaN</td>\n",
              "      <td>2015-02-24 11:35:52 -0800</td>\n",
              "      <td>NaN</td>\n",
              "      <td>Eastern Time (US &amp; Canada)</td>\n",
              "      <td>35</td>\n",
              "    </tr>\n",
              "    <tr>\n",
              "      <th>1</th>\n",
              "      <td>570301130888122368</td>\n",
              "      <td>positive</td>\n",
              "      <td>0.3486</td>\n",
              "      <td>NaN</td>\n",
              "      <td>0.0000</td>\n",
              "      <td>Virgin America</td>\n",
              "      <td>NaN</td>\n",
              "      <td>jnardino</td>\n",
              "      <td>NaN</td>\n",
              "      <td>0</td>\n",
              "      <td>@VirginAmerica plus you've added commercials to the experience... tacky.</td>\n",
              "      <td>NaN</td>\n",
              "      <td>2015-02-24 11:15:59 -0800</td>\n",
              "      <td>NaN</td>\n",
              "      <td>Pacific Time (US &amp; Canada)</td>\n",
              "      <td>72</td>\n",
              "    </tr>\n",
              "    <tr>\n",
              "      <th>2</th>\n",
              "      <td>570301083672813571</td>\n",
              "      <td>neutral</td>\n",
              "      <td>0.6837</td>\n",
              "      <td>NaN</td>\n",
              "      <td>NaN</td>\n",
              "      <td>Virgin America</td>\n",
              "      <td>NaN</td>\n",
              "      <td>yvonnalynn</td>\n",
              "      <td>NaN</td>\n",
              "      <td>0</td>\n",
              "      <td>@VirginAmerica I didn't today... Must mean I need to take another trip!</td>\n",
              "      <td>NaN</td>\n",
              "      <td>2015-02-24 11:15:48 -0800</td>\n",
              "      <td>Lets Play</td>\n",
              "      <td>Central Time (US &amp; Canada)</td>\n",
              "      <td>71</td>\n",
              "    </tr>\n",
              "    <tr>\n",
              "      <th>3</th>\n",
              "      <td>570301031407624196</td>\n",
              "      <td>negative</td>\n",
              "      <td>1.0000</td>\n",
              "      <td>Bad Flight</td>\n",
              "      <td>0.7033</td>\n",
              "      <td>Virgin America</td>\n",
              "      <td>NaN</td>\n",
              "      <td>jnardino</td>\n",
              "      <td>NaN</td>\n",
              "      <td>0</td>\n",
              "      <td>@VirginAmerica it's really aggressive to blast obnoxious \"entertainment\" in your guests' faces &amp;amp; they have little recourse</td>\n",
              "      <td>NaN</td>\n",
              "      <td>2015-02-24 11:15:36 -0800</td>\n",
              "      <td>NaN</td>\n",
              "      <td>Pacific Time (US &amp; Canada)</td>\n",
              "      <td>126</td>\n",
              "    </tr>\n",
              "    <tr>\n",
              "      <th>4</th>\n",
              "      <td>570300817074462722</td>\n",
              "      <td>negative</td>\n",
              "      <td>1.0000</td>\n",
              "      <td>Can't Tell</td>\n",
              "      <td>1.0000</td>\n",
              "      <td>Virgin America</td>\n",
              "      <td>NaN</td>\n",
              "      <td>jnardino</td>\n",
              "      <td>NaN</td>\n",
              "      <td>0</td>\n",
              "      <td>@VirginAmerica and it's a really big bad thing about it</td>\n",
              "      <td>NaN</td>\n",
              "      <td>2015-02-24 11:14:45 -0800</td>\n",
              "      <td>NaN</td>\n",
              "      <td>Pacific Time (US &amp; Canada)</td>\n",
              "      <td>55</td>\n",
              "    </tr>\n",
              "  </tbody>\n",
              "</table>\n",
              "</div>"
            ],
            "text/plain": [
              "             tweet_id airline_sentiment  ...               user_timezone length\n",
              "0  570306133677760513  neutral           ...  Eastern Time (US & Canada)  35   \n",
              "1  570301130888122368  positive          ...  Pacific Time (US & Canada)  72   \n",
              "2  570301083672813571  neutral           ...  Central Time (US & Canada)  71   \n",
              "3  570301031407624196  negative          ...  Pacific Time (US & Canada)  126  \n",
              "4  570300817074462722  negative          ...  Pacific Time (US & Canada)  55   \n",
              "\n",
              "[5 rows x 16 columns]"
            ]
          },
          "metadata": {
            "tags": []
          },
          "execution_count": 60
        }
      ]
    },
    {
      "cell_type": "markdown",
      "metadata": {
        "id": "aauPIRM35ZyI"
      },
      "source": [
        "##**Tokenization**"
      ]
    },
    {
      "cell_type": "code",
      "metadata": {
        "id": "N8p-gV875T_i",
        "colab": {
          "base_uri": "https://localhost:8080/"
        },
        "outputId": "51ddaf65-744b-4da1-969d-c3f48c3dabeb"
      },
      "source": [
        "pd.set_option('display.max_colwidth', -1)"
      ],
      "execution_count": null,
      "outputs": [
        {
          "output_type": "stream",
          "text": [
            "/usr/local/lib/python3.6/dist-packages/ipykernel_launcher.py:1: FutureWarning: Passing a negative integer is deprecated in version 1.0 and will not be supported in future version. Instead, use None to not limit the column width.\n",
            "  \"\"\"Entry point for launching an IPython kernel.\n"
          ],
          "name": "stderr"
        }
      ]
    },
    {
      "cell_type": "code",
      "metadata": {
        "id": "DChjzZpD5Yss"
      },
      "source": [
        "#Remove punctuations and special characters and stop words.\n",
        "df['tokenized_tweet'] = df['text'].apply(text_process)"
      ],
      "execution_count": null,
      "outputs": []
    },
    {
      "cell_type": "markdown",
      "metadata": {
        "id": "lVSVtL6Y6yNK"
      },
      "source": [
        "#**No neutrals allowed!**"
      ]
    },
    {
      "cell_type": "code",
      "metadata": {
        "id": "pl0hqnqG8INN"
      },
      "source": [
        "df = df[df.airline_sentiment\t != 'neutral'].reset_index()\n"
      ],
      "execution_count": null,
      "outputs": []
    },
    {
      "cell_type": "markdown",
      "metadata": {
        "id": "bMiHviB06Ch-"
      },
      "source": [
        "##**Let's just get rid of unwanted columns..its time.**"
      ]
    },
    {
      "cell_type": "code",
      "metadata": {
        "id": "zlWbGYZ76KYy"
      },
      "source": [
        "tweet=df[['airline_sentiment','tokenized_tweet','length']]"
      ],
      "execution_count": null,
      "outputs": []
    },
    {
      "cell_type": "code",
      "metadata": {
        "colab": {
          "base_uri": "https://localhost:8080/",
          "height": 198
        },
        "id": "-YRnr9oy6nep",
        "outputId": "07dc84cd-eb8c-44ba-e83f-e4fa6a9ebe2f"
      },
      "source": [
        "tweet.head()"
      ],
      "execution_count": null,
      "outputs": [
        {
          "output_type": "execute_result",
          "data": {
            "text/html": [
              "<div>\n",
              "<style scoped>\n",
              "    .dataframe tbody tr th:only-of-type {\n",
              "        vertical-align: middle;\n",
              "    }\n",
              "\n",
              "    .dataframe tbody tr th {\n",
              "        vertical-align: top;\n",
              "    }\n",
              "\n",
              "    .dataframe thead th {\n",
              "        text-align: right;\n",
              "    }\n",
              "</style>\n",
              "<table border=\"1\" class=\"dataframe\">\n",
              "  <thead>\n",
              "    <tr style=\"text-align: right;\">\n",
              "      <th></th>\n",
              "      <th>airline_sentiment</th>\n",
              "      <th>tokenized_tweet</th>\n",
              "      <th>length</th>\n",
              "    </tr>\n",
              "  </thead>\n",
              "  <tbody>\n",
              "    <tr>\n",
              "      <th>0</th>\n",
              "      <td>positive</td>\n",
              "      <td>VirginAmerica plus youve added commercials experience tacky</td>\n",
              "      <td>72</td>\n",
              "    </tr>\n",
              "    <tr>\n",
              "      <th>1</th>\n",
              "      <td>negative</td>\n",
              "      <td>VirginAmerica really aggressive blast obnoxious entertainment guests faces amp little recourse</td>\n",
              "      <td>126</td>\n",
              "    </tr>\n",
              "    <tr>\n",
              "      <th>2</th>\n",
              "      <td>negative</td>\n",
              "      <td>VirginAmerica really big bad thing</td>\n",
              "      <td>55</td>\n",
              "    </tr>\n",
              "    <tr>\n",
              "      <th>3</th>\n",
              "      <td>negative</td>\n",
              "      <td>VirginAmerica seriously would pay 30 flight seats didnt playing really bad thing flying VA</td>\n",
              "      <td>135</td>\n",
              "    </tr>\n",
              "    <tr>\n",
              "      <th>4</th>\n",
              "      <td>positive</td>\n",
              "      <td>VirginAmerica yes nearly every time fly VX “ear worm” won’t go away</td>\n",
              "      <td>79</td>\n",
              "    </tr>\n",
              "  </tbody>\n",
              "</table>\n",
              "</div>"
            ],
            "text/plain": [
              "  airline_sentiment  ... length\n",
              "0  positive          ...  72   \n",
              "1  negative          ...  126  \n",
              "2  negative          ...  55   \n",
              "3  negative          ...  135  \n",
              "4  positive          ...  79   \n",
              "\n",
              "[5 rows x 3 columns]"
            ]
          },
          "metadata": {
            "tags": []
          },
          "execution_count": 65
        }
      ]
    },
    {
      "cell_type": "code",
      "metadata": {
        "colab": {
          "base_uri": "https://localhost:8080/",
          "height": 198
        },
        "id": "7oIymdCy7AVS",
        "outputId": "a7db2433-a35c-4436-bc75-6a096b78805e"
      },
      "source": [
        "tweet.tail()"
      ],
      "execution_count": null,
      "outputs": [
        {
          "output_type": "execute_result",
          "data": {
            "text/html": [
              "<div>\n",
              "<style scoped>\n",
              "    .dataframe tbody tr th:only-of-type {\n",
              "        vertical-align: middle;\n",
              "    }\n",
              "\n",
              "    .dataframe tbody tr th {\n",
              "        vertical-align: top;\n",
              "    }\n",
              "\n",
              "    .dataframe thead th {\n",
              "        text-align: right;\n",
              "    }\n",
              "</style>\n",
              "<table border=\"1\" class=\"dataframe\">\n",
              "  <thead>\n",
              "    <tr style=\"text-align: right;\">\n",
              "      <th></th>\n",
              "      <th>airline_sentiment</th>\n",
              "      <th>tokenized_tweet</th>\n",
              "      <th>length</th>\n",
              "    </tr>\n",
              "  </thead>\n",
              "  <tbody>\n",
              "    <tr>\n",
              "      <th>11536</th>\n",
              "      <td>negative</td>\n",
              "      <td>AmericanAir flight Cancelled Flightled leaving tomorrow morning Auto rebooked Tuesday night flight need arrive Monday</td>\n",
              "      <td>141</td>\n",
              "    </tr>\n",
              "    <tr>\n",
              "      <th>11537</th>\n",
              "      <td>negative</td>\n",
              "      <td>AmericanAir right cue delays👌</td>\n",
              "      <td>42</td>\n",
              "    </tr>\n",
              "    <tr>\n",
              "      <th>11538</th>\n",
              "      <td>positive</td>\n",
              "      <td>AmericanAir thank got different flight Chicago</td>\n",
              "      <td>63</td>\n",
              "    </tr>\n",
              "    <tr>\n",
              "      <th>11539</th>\n",
              "      <td>negative</td>\n",
              "      <td>AmericanAir leaving 20 minutes Late Flight warnings communication 15 minutes Late Flight Thats called shitty customer svc</td>\n",
              "      <td>150</td>\n",
              "    </tr>\n",
              "    <tr>\n",
              "      <th>11540</th>\n",
              "      <td>negative</td>\n",
              "      <td>AmericanAir money change flight dont answer phones suggestions make commitment</td>\n",
              "      <td>135</td>\n",
              "    </tr>\n",
              "  </tbody>\n",
              "</table>\n",
              "</div>"
            ],
            "text/plain": [
              "      airline_sentiment  ... length\n",
              "11536  negative          ...  141  \n",
              "11537  negative          ...  42   \n",
              "11538  positive          ...  63   \n",
              "11539  negative          ...  150  \n",
              "11540  negative          ...  135  \n",
              "\n",
              "[5 rows x 3 columns]"
            ]
          },
          "metadata": {
            "tags": []
          },
          "execution_count": 66
        }
      ]
    },
    {
      "cell_type": "code",
      "metadata": {
        "colab": {
          "base_uri": "https://localhost:8080/"
        },
        "id": "wOUcOyEm6pE5",
        "outputId": "d885a270-f712-4caf-c0f7-a7573693bc9d"
      },
      "source": [
        "tweet.info()"
      ],
      "execution_count": null,
      "outputs": [
        {
          "output_type": "stream",
          "text": [
            "<class 'pandas.core.frame.DataFrame'>\n",
            "RangeIndex: 11541 entries, 0 to 11540\n",
            "Data columns (total 3 columns):\n",
            " #   Column             Non-Null Count  Dtype \n",
            "---  ------             --------------  ----- \n",
            " 0   airline_sentiment  11541 non-null  object\n",
            " 1   tokenized_tweet    11541 non-null  object\n",
            " 2   length             11541 non-null  int64 \n",
            "dtypes: int64(1), object(2)\n",
            "memory usage: 270.6+ KB\n"
          ],
          "name": "stdout"
        }
      ]
    },
    {
      "cell_type": "code",
      "metadata": {
        "colab": {
          "base_uri": "https://localhost:8080/",
          "height": 198
        },
        "id": "y4xLrpnk6saa",
        "outputId": "eea66790-7a36-4c82-f784-00ca92d44a64"
      },
      "source": [
        "tweet.head()"
      ],
      "execution_count": null,
      "outputs": [
        {
          "output_type": "execute_result",
          "data": {
            "text/html": [
              "<div>\n",
              "<style scoped>\n",
              "    .dataframe tbody tr th:only-of-type {\n",
              "        vertical-align: middle;\n",
              "    }\n",
              "\n",
              "    .dataframe tbody tr th {\n",
              "        vertical-align: top;\n",
              "    }\n",
              "\n",
              "    .dataframe thead th {\n",
              "        text-align: right;\n",
              "    }\n",
              "</style>\n",
              "<table border=\"1\" class=\"dataframe\">\n",
              "  <thead>\n",
              "    <tr style=\"text-align: right;\">\n",
              "      <th></th>\n",
              "      <th>airline_sentiment</th>\n",
              "      <th>tokenized_tweet</th>\n",
              "      <th>length</th>\n",
              "    </tr>\n",
              "  </thead>\n",
              "  <tbody>\n",
              "    <tr>\n",
              "      <th>0</th>\n",
              "      <td>positive</td>\n",
              "      <td>VirginAmerica plus youve added commercials experience tacky</td>\n",
              "      <td>72</td>\n",
              "    </tr>\n",
              "    <tr>\n",
              "      <th>1</th>\n",
              "      <td>negative</td>\n",
              "      <td>VirginAmerica really aggressive blast obnoxious entertainment guests faces amp little recourse</td>\n",
              "      <td>126</td>\n",
              "    </tr>\n",
              "    <tr>\n",
              "      <th>2</th>\n",
              "      <td>negative</td>\n",
              "      <td>VirginAmerica really big bad thing</td>\n",
              "      <td>55</td>\n",
              "    </tr>\n",
              "    <tr>\n",
              "      <th>3</th>\n",
              "      <td>negative</td>\n",
              "      <td>VirginAmerica seriously would pay 30 flight seats didnt playing really bad thing flying VA</td>\n",
              "      <td>135</td>\n",
              "    </tr>\n",
              "    <tr>\n",
              "      <th>4</th>\n",
              "      <td>positive</td>\n",
              "      <td>VirginAmerica yes nearly every time fly VX “ear worm” won’t go away</td>\n",
              "      <td>79</td>\n",
              "    </tr>\n",
              "  </tbody>\n",
              "</table>\n",
              "</div>"
            ],
            "text/plain": [
              "  airline_sentiment  ... length\n",
              "0  positive          ...  72   \n",
              "1  negative          ...  126  \n",
              "2  negative          ...  55   \n",
              "3  negative          ...  135  \n",
              "4  positive          ...  79   \n",
              "\n",
              "[5 rows x 3 columns]"
            ]
          },
          "metadata": {
            "tags": []
          },
          "execution_count": 68
        }
      ]
    },
    {
      "cell_type": "markdown",
      "metadata": {
        "id": "PrlYLEiP8b9z"
      },
      "source": [
        "##**Vectorization**"
      ]
    },
    {
      "cell_type": "code",
      "metadata": {
        "id": "VBOjXM0r7o7I"
      },
      "source": [
        "from sklearn.feature_extraction.text import CountVectorizer\n",
        "vectorizer = CountVectorizer()\n",
        "#X = vectorizer.fit_transform(tweet['tokenized_tweet'])"
      ],
      "execution_count": null,
      "outputs": []
    },
    {
      "cell_type": "code",
      "metadata": {
        "id": "rQnLB106-bJ5"
      },
      "source": [
        "#X = tweet['tokenized_tweet']\n",
        "#Y = tweet['airline_sentiment']"
      ],
      "execution_count": null,
      "outputs": []
    },
    {
      "cell_type": "code",
      "metadata": {
        "id": "_7VqyRjd9NtW"
      },
      "source": [
        "from sklearn.model_selection import train_test_split\n",
        "x_train,x_test,y_train,y_test = train_test_split(tweet['tokenized_tweet'],tweet['airline_sentiment'],test_size=0.4)"
      ],
      "execution_count": null,
      "outputs": []
    },
    {
      "cell_type": "code",
      "metadata": {
        "colab": {
          "base_uri": "https://localhost:8080/"
        },
        "id": "DGTqMiZt-5_t",
        "outputId": "4e63ec47-441f-4492-f6bf-6aa4a30b8785"
      },
      "source": [
        "x_train.head()"
      ],
      "execution_count": null,
      "outputs": [
        {
          "output_type": "execute_result",
          "data": {
            "text/plain": [
              "7958     USAirways First class service US 769 PHLMCO today flight attendant F didnt catch name top notch                   \n",
              "9321     AmericanAir extremely upset baggage handlers decide go luggage take belongings                                    \n",
              "3645     SouthwestAir tweet weekend bad weather closes customer relations center process refunds Cancelled Flighted flights\n",
              "7010     USAirways HA flight CTL delayed Going miss connection please transfer another airline asap httptco1XdLbiBClP      \n",
              "10145    AmericanAir flt 703 sorry scheduled 545 phlmia totally chaotic poorly addressed event Sent three gates night      \n",
              "Name: tokenized_tweet, dtype: object"
            ]
          },
          "metadata": {
            "tags": []
          },
          "execution_count": 72
        }
      ]
    },
    {
      "cell_type": "code",
      "metadata": {
        "colab": {
          "base_uri": "https://localhost:8080/"
        },
        "id": "R6Y5Fo8V-58J",
        "outputId": "2d9c6289-e03b-4e16-9e06-4cdc896174a9"
      },
      "source": [
        "x_test.head()"
      ],
      "execution_count": null,
      "outputs": [
        {
          "output_type": "execute_result",
          "data": {
            "text/plain": [
              "10184    AmericanAir helpful                                                                                                \n",
              "9588     AmericanAir local agent person answer questions phone service terrible                                             \n",
              "5105     SouthwestAir Ive airline Everyone else great soured whole experience Hope shes next time                           \n",
              "7068     USAirways US 728Feb 21 Ground power shorts third time Weary German passenger deplanes Makes jealous Auf wiedersehen\n",
              "4445     SouthwestAir shhhh dont want something else steal deal😉                                                            \n",
              "Name: tokenized_tweet, dtype: object"
            ]
          },
          "metadata": {
            "tags": []
          },
          "execution_count": 73
        }
      ]
    },
    {
      "cell_type": "code",
      "metadata": {
        "id": "CJIHK9Kn-53G"
      },
      "source": [
        "train_vectorized = vectorizer.fit_transform(x_train)\n",
        "test_vectorized = vectorizer.transform(x_test)\n"
      ],
      "execution_count": null,
      "outputs": []
    },
    {
      "cell_type": "code",
      "metadata": {
        "colab": {
          "base_uri": "https://localhost:8080/"
        },
        "id": "W2QdBHj3_LTo",
        "outputId": "04784a16-71d7-4782-f38e-901aa1d5c96c"
      },
      "source": [
        "train_vectorized"
      ],
      "execution_count": null,
      "outputs": [
        {
          "output_type": "execute_result",
          "data": {
            "text/plain": [
              "<6924x10098 sparse matrix of type '<class 'numpy.int64'>'\n",
              "\twith 72432 stored elements in Compressed Sparse Row format>"
            ]
          },
          "metadata": {
            "tags": []
          },
          "execution_count": 75
        }
      ]
    },
    {
      "cell_type": "code",
      "metadata": {
        "colab": {
          "base_uri": "https://localhost:8080/"
        },
        "id": "iPZM3nGOBwtb",
        "outputId": "3463eb0c-e8e5-4cc2-a359-b8ce440a9935"
      },
      "source": [
        "test_vectorized"
      ],
      "execution_count": null,
      "outputs": [
        {
          "output_type": "execute_result",
          "data": {
            "text/plain": [
              "<4617x10098 sparse matrix of type '<class 'numpy.int64'>'\n",
              "\twith 44462 stored elements in Compressed Sparse Row format>"
            ]
          },
          "metadata": {
            "tags": []
          },
          "execution_count": 76
        }
      ]
    },
    {
      "cell_type": "code",
      "metadata": {
        "id": "Zs4yapPa49xl"
      },
      "source": [
        "from sklearn import svm\n",
        "clf = svm.SVC()\n"
      ],
      "execution_count": null,
      "outputs": []
    },
    {
      "cell_type": "code",
      "metadata": {
        "colab": {
          "base_uri": "https://localhost:8080/"
        },
        "id": "vuZBNf2Y5NIq",
        "outputId": "afd42cf2-0599-4ee5-8660-047947b20bca"
      },
      "source": [
        " clf.fit(train_vectorized, y_train)"
      ],
      "execution_count": null,
      "outputs": [
        {
          "output_type": "execute_result",
          "data": {
            "text/plain": [
              "SVC(C=1.0, break_ties=False, cache_size=200, class_weight=None, coef0=0.0,\n",
              "    decision_function_shape='ovr', degree=3, gamma='scale', kernel='rbf',\n",
              "    max_iter=-1, probability=False, random_state=None, shrinking=True,\n",
              "    tol=0.001, verbose=False)"
            ]
          },
          "metadata": {
            "tags": []
          },
          "execution_count": 78
        }
      ]
    },
    {
      "cell_type": "code",
      "metadata": {
        "id": "IzlE77_i-ZGj"
      },
      "source": [
        "train_pred=clf.predict(train_vectorized)"
      ],
      "execution_count": null,
      "outputs": []
    },
    {
      "cell_type": "code",
      "metadata": {
        "id": "ajwZ-ab588qs"
      },
      "source": [
        "test_pred=clf.predict(test_vectorized)"
      ],
      "execution_count": null,
      "outputs": []
    },
    {
      "cell_type": "code",
      "metadata": {
        "colab": {
          "base_uri": "https://localhost:8080/"
        },
        "id": "2g479Sfx9DeT",
        "outputId": "9430e3df-84ec-4a6a-a5f9-df8ffa860407"
      },
      "source": [
        "# Confusion matrices for train and test \n",
        "\n",
        "print(confusion_matrix(y_train,train_pred))\n",
        "print(confusion_matrix(y_test,test_pred))"
      ],
      "execution_count": null,
      "outputs": [
        {
          "output_type": "stream",
          "text": [
            "[[5483   23]\n",
            " [ 166 1252]]\n",
            "[[3585   87]\n",
            " [ 376  569]]\n"
          ],
          "name": "stdout"
        }
      ]
    },
    {
      "cell_type": "markdown",
      "metadata": {
        "id": "BB1tC0222NOZ"
      },
      "source": [
        "##**Roc and precison recall curve for train data.**\n"
      ]
    },
    {
      "cell_type": "code",
      "metadata": {
        "colab": {
          "base_uri": "https://localhost:8080/",
          "height": 297
        },
        "id": "r9vlrJORpp4M",
        "outputId": "0ac86357-faa6-4107-846e-2b0a2ab68fcd"
      },
      "source": [
        "from sklearn import datasets, metrics, model_selection, svm\n",
        "metrics.plot_roc_curve(clf, train_vectorized, y_train)  \n"
      ],
      "execution_count": null,
      "outputs": [
        {
          "output_type": "execute_result",
          "data": {
            "text/plain": [
              "<sklearn.metrics._plot.roc_curve.RocCurveDisplay at 0x7f48d62ebd68>"
            ]
          },
          "metadata": {
            "tags": []
          },
          "execution_count": 82
        },
        {
          "output_type": "display_data",
          "data": {
            "image/png": "[encoded data removed]",
            "text/plain": [
              "<Figure size 432x288 with 1 Axes>"
            ]
          },
          "metadata": {
            "tags": [],
            "needs_background": "light"
          }
        }
      ]
    },
    {
      "cell_type": "code",
      "metadata": {
        "colab": {
          "base_uri": "https://localhost:8080/",
          "height": 297
        },
        "id": "D0jZJs2n2h7l",
        "outputId": "91db3959-696b-4f7a-ced9-6298ee069319"
      },
      "source": [
        "metrics.plot_precision_recall_curve(clf, train_vectorized, y_train)\n"
      ],
      "execution_count": null,
      "outputs": [
        {
          "output_type": "execute_result",
          "data": {
            "text/plain": [
              "<sklearn.metrics._plot.precision_recall_curve.PrecisionRecallDisplay at 0x7f48d6577eb8>"
            ]
          },
          "metadata": {
            "tags": []
          },
          "execution_count": 83
        },
        {
          "output_type": "display_data",
          "data": {
            "image/png": "[encoded data removed]",
            "text/plain": [
              "<Figure size 432x288 with 1 Axes>"
            ]
          },
          "metadata": {
            "tags": [],
            "needs_background": "light"
          }
        }
      ]
    },
    {
      "cell_type": "markdown",
      "metadata": {
        "id": "biZFCZvD28FD"
      },
      "source": [
        "##**Roc and precison recall curve for test data.**"
      ]
    },
    {
      "cell_type": "code",
      "metadata": {
        "colab": {
          "base_uri": "https://localhost:8080/",
          "height": 297
        },
        "id": "pwYjgjwn3AOs",
        "outputId": "f9be3cdd-0391-46bd-b548-569f00b236ea"
      },
      "source": [
        "metrics.plot_roc_curve(clf, test_vectorized, y_test)\n"
      ],
      "execution_count": null,
      "outputs": [
        {
          "output_type": "execute_result",
          "data": {
            "text/plain": [
              "<sklearn.metrics._plot.roc_curve.RocCurveDisplay at 0x7f48d65136a0>"
            ]
          },
          "metadata": {
            "tags": []
          },
          "execution_count": 84
        },
        {
          "output_type": "display_data",
          "data": {
            "image/png": "[encoded data removed]",
            "text/plain": [
              "<Figure size 432x288 with 1 Axes>"
            ]
          },
          "metadata": {
            "tags": [],
            "needs_background": "light"
          }
        }
      ]
    },
    {
      "cell_type": "code",
      "metadata": {
        "colab": {
          "base_uri": "https://localhost:8080/",
          "height": 297
        },
        "id": "nlh7obgc3GSS",
        "outputId": "0cb3b5af-9d8e-487f-f690-99dd99b504d2"
      },
      "source": [
        "metrics.plot_precision_recall_curve(clf, test_vectorized, y_test)"
      ],
      "execution_count": null,
      "outputs": [
        {
          "output_type": "execute_result",
          "data": {
            "text/plain": [
              "<sklearn.metrics._plot.precision_recall_curve.PrecisionRecallDisplay at 0x7f48d627b1d0>"
            ]
          },
          "metadata": {
            "tags": []
          },
          "execution_count": 85
        },
        {
          "output_type": "display_data",
          "data": {
            "image/png": "[encoded data removed]",
            "text/plain": [
              "<Figure size 432x288 with 1 Axes>"
            ]
          },
          "metadata": {
            "tags": [],
            "needs_background": "light"
          }
        }
      ]
    },
    {
      "cell_type": "code",
      "metadata": {
        "colab": {
          "base_uri": "https://localhost:8080/"
        },
        "id": "D--zP4VJChzC",
        "outputId": "3ee85f69-4274-4222-899b-07e912d6c1f5"
      },
      "source": [
        "# Print the classification report for train and test\n",
        "print(classification_report(y_train,train_pred))\n",
        "print(\"\\n\")\n",
        "print(classification_report(y_test,test_pred))"
      ],
      "execution_count": null,
      "outputs": [
        {
          "output_type": "stream",
          "text": [
            "              precision    recall  f1-score   support\n",
            "\n",
            "    negative       0.97      1.00      0.98      5506\n",
            "    positive       0.98      0.88      0.93      1418\n",
            "\n",
            "    accuracy                           0.97      6924\n",
            "   macro avg       0.98      0.94      0.96      6924\n",
            "weighted avg       0.97      0.97      0.97      6924\n",
            "\n",
            "\n",
            "\n",
            "              precision    recall  f1-score   support\n",
            "\n",
            "    negative       0.91      0.98      0.94      3672\n",
            "    positive       0.87      0.60      0.71       945\n",
            "\n",
            "    accuracy                           0.90      4617\n",
            "   macro avg       0.89      0.79      0.83      4617\n",
            "weighted avg       0.90      0.90      0.89      4617\n",
            "\n"
          ],
          "name": "stdout"
        }
      ]
    },
    {
      "cell_type": "markdown",
      "metadata": {
        "id": "qXRXoRHAGo6O"
      },
      "source": [
        "##Grid search cv"
      ]
    },
    {
      "cell_type": "code",
      "metadata": {
        "id": "7M6d8KZSFKLQ"
      },
      "source": [
        "from sklearn.model_selection import GridSearchCV \n"
      ],
      "execution_count": null,
      "outputs": []
    },
    {
      "cell_type": "code",
      "metadata": {
        "id": "3cCuFfcWGzhi"
      },
      "source": [
        "param_dict = {'C': [0.1, 1, 10, 1000],  \n",
        "              'gamma': [1, 0.1, 0.01, 0.0001], \n",
        "              'kernel': ['rbf','linear','poly']} "
      ],
      "execution_count": null,
      "outputs": []
    },
    {
      "cell_type": "code",
      "metadata": {
        "id": "Lclw78TOITx-"
      },
      "source": [
        "grid = GridSearchCV(clf, param_dict,n_jobs=2, cv=5, verbose = 10,scoring='accuracy') \n"
      ],
      "execution_count": null,
      "outputs": []
    },
    {
      "cell_type": "code",
      "metadata": {
        "colab": {
          "base_uri": "https://localhost:8080/"
        },
        "id": "aP2-63z4fOi6",
        "outputId": "ac18318a-9c86-40a4-ead5-95b1a163afaf"
      },
      "source": [
        "grid.fit(train_vectorized,y_train)"
      ],
      "execution_count": null,
      "outputs": [
        {
          "output_type": "stream",
          "text": [
            "Fitting 5 folds for each of 48 candidates, totalling 240 fits\n"
          ],
          "name": "stdout"
        },
        {
          "output_type": "stream",
          "text": [
            "[Parallel(n_jobs=2)]: Using backend LokyBackend with 2 concurrent workers.\n",
            "[Parallel(n_jobs=2)]: Done   1 tasks      | elapsed:    8.8s\n",
            "[Parallel(n_jobs=2)]: Done   4 tasks      | elapsed:   16.5s\n",
            "[Parallel(n_jobs=2)]: Done   9 tasks      | elapsed:   26.1s\n",
            "[Parallel(n_jobs=2)]: Done  14 tasks      | elapsed:   39.4s\n",
            "[Parallel(n_jobs=2)]: Done  21 tasks      | elapsed:   54.3s\n",
            "[Parallel(n_jobs=2)]: Done  28 tasks      | elapsed:  1.2min\n",
            "[Parallel(n_jobs=2)]: Done  37 tasks      | elapsed:  1.4min\n",
            "[Parallel(n_jobs=2)]: Done  46 tasks      | elapsed:  1.6min\n",
            "[Parallel(n_jobs=2)]: Done  57 tasks      | elapsed:  1.9min\n",
            "[Parallel(n_jobs=2)]: Done  68 tasks      | elapsed:  2.4min\n",
            "[Parallel(n_jobs=2)]: Done  81 tasks      | elapsed:  3.0min\n",
            "[Parallel(n_jobs=2)]: Done  94 tasks      | elapsed:  3.5min\n",
            "[Parallel(n_jobs=2)]: Done 109 tasks      | elapsed:  3.9min\n",
            "[Parallel(n_jobs=2)]: Done 124 tasks      | elapsed:  4.4min\n",
            "[Parallel(n_jobs=2)]: Done 141 tasks      | elapsed:  5.3min\n",
            "[Parallel(n_jobs=2)]: Done 158 tasks      | elapsed:  5.8min\n",
            "[Parallel(n_jobs=2)]: Done 177 tasks      | elapsed:  6.4min\n",
            "[Parallel(n_jobs=2)]: Done 196 tasks      | elapsed:  7.3min\n",
            "[Parallel(n_jobs=2)]: Done 217 tasks      | elapsed:  8.1min\n",
            "[Parallel(n_jobs=2)]: Done 240 out of 240 | elapsed:  8.8min finished\n"
          ],
          "name": "stderr"
        },
        {
          "output_type": "execute_result",
          "data": {
            "text/plain": [
              "GridSearchCV(cv=5, error_score=nan,\n",
              "             estimator=SVC(C=1.0, break_ties=False, cache_size=200,\n",
              "                           class_weight=None, coef0=0.0,\n",
              "                           decision_function_shape='ovr', degree=3,\n",
              "                           gamma='scale', kernel='rbf', max_iter=-1,\n",
              "                           probability=False, random_state=None, shrinking=True,\n",
              "                           tol=0.001, verbose=False),\n",
              "             iid='deprecated', n_jobs=2,\n",
              "             param_grid={'C': [0.1, 1, 10, 1000],\n",
              "                         'gamma': [1, 0.1, 0.01, 0.0001],\n",
              "                         'kernel': ['rbf', 'linear', 'poly']},\n",
              "             pre_dispatch='2*n_jobs', refit=True, return_train_score=False,\n",
              "             scoring='accuracy', verbose=10)"
            ]
          },
          "metadata": {
            "tags": []
          },
          "execution_count": 90
        }
      ]
    },
    {
      "cell_type": "code",
      "metadata": {
        "id": "Lgp3HZQhfTyy",
        "colab": {
          "base_uri": "https://localhost:8080/"
        },
        "outputId": "e153ecc2-e357-40be-84ad-d8bd283ad6ee"
      },
      "source": [
        "grid.best_params_"
      ],
      "execution_count": null,
      "outputs": [
        {
          "output_type": "execute_result",
          "data": {
            "text/plain": [
              "{'C': 10, 'gamma': 0.01, 'kernel': 'rbf'}"
            ]
          },
          "metadata": {
            "tags": []
          },
          "execution_count": 91
        }
      ]
    },
    {
      "cell_type": "code",
      "metadata": {
        "id": "zECNO6a7Vj7S"
      },
      "source": [
        "g_pred_tr=grid.predict(train_vectorized)"
      ],
      "execution_count": null,
      "outputs": []
    },
    {
      "cell_type": "code",
      "metadata": {
        "id": "a18Xgh2sVx5k"
      },
      "source": [
        "g_pred_test=grid.predict(test_vectorized)"
      ],
      "execution_count": null,
      "outputs": []
    },
    {
      "cell_type": "code",
      "metadata": {
        "colab": {
          "base_uri": "https://localhost:8080/"
        },
        "id": "cx4QJntEWyPO",
        "outputId": "9b287a55-10de-4186-8dc2-58734bff3a66"
      },
      "source": [
        "# Confusion matrices for train and test \n",
        "\n",
        "print(confusion_matrix(y_train,g_pred_tr))\n",
        "print(confusion_matrix(y_test,g_pred_test))"
      ],
      "execution_count": null,
      "outputs": [
        {
          "output_type": "stream",
          "text": [
            "[[5467   39]\n",
            " [ 117 1301]]\n",
            "[[3531  141]\n",
            " [ 266  679]]\n"
          ],
          "name": "stdout"
        }
      ]
    },
    {
      "cell_type": "code",
      "metadata": {
        "colab": {
          "base_uri": "https://localhost:8080/"
        },
        "id": "Bh-KlJMMX6Gl",
        "outputId": "a65bfbc7-d997-43b4-bd57-9993ab2f3c05"
      },
      "source": [
        "# Print the classification report for train and test\n",
        "print(classification_report(y_train,g_pred_tr))\n",
        "print(\"\\n\")\n",
        "print(classification_report(y_test,g_pred_test))"
      ],
      "execution_count": null,
      "outputs": [
        {
          "output_type": "stream",
          "text": [
            "              precision    recall  f1-score   support\n",
            "\n",
            "    negative       0.98      0.99      0.99      5506\n",
            "    positive       0.97      0.92      0.94      1418\n",
            "\n",
            "    accuracy                           0.98      6924\n",
            "   macro avg       0.97      0.96      0.96      6924\n",
            "weighted avg       0.98      0.98      0.98      6924\n",
            "\n",
            "\n",
            "\n",
            "              precision    recall  f1-score   support\n",
            "\n",
            "    negative       0.93      0.96      0.95      3672\n",
            "    positive       0.83      0.72      0.77       945\n",
            "\n",
            "    accuracy                           0.91      4617\n",
            "   macro avg       0.88      0.84      0.86      4617\n",
            "weighted avg       0.91      0.91      0.91      4617\n",
            "\n"
          ],
          "name": "stdout"
        }
      ]
    },
    {
      "cell_type": "markdown",
      "metadata": {
        "id": "_wayIWCk3pk_"
      },
      "source": [
        "##**Roc and precison recall curve for grid train data.**\n"
      ]
    },
    {
      "cell_type": "code",
      "metadata": {
        "colab": {
          "base_uri": "https://localhost:8080/",
          "height": 297
        },
        "id": "4AUZohwkeiW6",
        "outputId": "a31b6115-f098-4a17-c103-a1fd3a039938"
      },
      "source": [
        "from sklearn import datasets, metrics, model_selection, svm\n",
        "metrics.plot_roc_curve(grid, train_vectorized, y_train)  \n"
      ],
      "execution_count": null,
      "outputs": [
        {
          "output_type": "execute_result",
          "data": {
            "text/plain": [
              "<sklearn.metrics._plot.roc_curve.RocCurveDisplay at 0x7f48d61b4358>"
            ]
          },
          "metadata": {
            "tags": []
          },
          "execution_count": 96
        },
        {
          "output_type": "display_data",
          "data": {
            "image/png": "[encoded data removed]",
            "text/plain": [
              "<Figure size 432x288 with 1 Axes>"
            ]
          },
          "metadata": {
            "tags": [],
            "needs_background": "light"
          }
        }
      ]
    },
    {
      "cell_type": "code",
      "metadata": {
        "colab": {
          "base_uri": "https://localhost:8080/",
          "height": 297
        },
        "id": "ZSwWhPqN7AXY",
        "outputId": "2be25043-3ef2-434e-98b2-c42a1b5a2e69"
      },
      "source": [
        "metrics.plot_precision_recall_curve(grid, train_vectorized, y_train)\n"
      ],
      "execution_count": null,
      "outputs": [
        {
          "output_type": "execute_result",
          "data": {
            "text/plain": [
              "<sklearn.metrics._plot.precision_recall_curve.PrecisionRecallDisplay at 0x7f48d61a3048>"
            ]
          },
          "metadata": {
            "tags": []
          },
          "execution_count": 97
        },
        {
          "output_type": "display_data",
          "data": {
            "image/png": "[encoded data removed]",
            "text/plain": [
              "<Figure size 432x288 with 1 Axes>"
            ]
          },
          "metadata": {
            "tags": [],
            "needs_background": "light"
          }
        }
      ]
    },
    {
      "cell_type": "markdown",
      "metadata": {
        "id": "uYcxLBtz7dDt"
      },
      "source": [
        "##**Roc and precison recall curve for grid test data.**\n"
      ]
    },
    {
      "cell_type": "code",
      "metadata": {
        "colab": {
          "base_uri": "https://localhost:8080/",
          "height": 297
        },
        "id": "-LaVAIP_7O68",
        "outputId": "9b86b8ac-e2ac-48b7-e828-1161f6e4ce78"
      },
      "source": [
        "metrics.plot_precision_recall_curve(grid, test_vectorized, y_test)\n"
      ],
      "execution_count": null,
      "outputs": [
        {
          "output_type": "execute_result",
          "data": {
            "text/plain": [
              "<sklearn.metrics._plot.precision_recall_curve.PrecisionRecallDisplay at 0x7f48d615fe80>"
            ]
          },
          "metadata": {
            "tags": []
          },
          "execution_count": 98
        },
        {
          "output_type": "display_data",
          "data": {
            "image/png": "[encoded data removed]",
            "text/plain": [
              "<Figure size 432x288 with 1 Axes>"
            ]
          },
          "metadata": {
            "tags": [],
            "needs_background": "light"
          }
        }
      ]
    },
    {
      "cell_type": "code",
      "metadata": {
        "colab": {
          "base_uri": "https://localhost:8080/",
          "height": 297
        },
        "id": "Mff7PmHTexYf",
        "outputId": "745fdde2-24c5-4783-cdde-940e1600704b"
      },
      "source": [
        "from sklearn.metrics import plot_precision_recall_curve\n",
        "plot_precision_recall_curve(grid, test_vectorized, y_test)\n"
      ],
      "execution_count": null,
      "outputs": [
        {
          "output_type": "execute_result",
          "data": {
            "text/plain": [
              "<sklearn.metrics._plot.precision_recall_curve.PrecisionRecallDisplay at 0x7f48d4fcaa58>"
            ]
          },
          "metadata": {
            "tags": []
          },
          "execution_count": 99
        },
        {
          "output_type": "display_data",
          "data": {
            "image/png": "[encoded data removed]",
            "text/plain": [
              "<Figure size 432x288 with 1 Axes>"
            ]
          },
          "metadata": {
            "tags": [],
            "needs_background": "light"
          }
        }
      ]
    },
    {
      "cell_type": "markdown",
      "metadata": {
        "id": "eCmnLlhMteV7"
      },
      "source": [
        "##**Vectorize using TFIDF vectorizer.**"
      ]
    },
    {
      "cell_type": "code",
      "metadata": {
        "id": "zSXz3Ieqtg-_"
      },
      "source": [
        "from sklearn.feature_extraction.text import TfidfVectorizer\n",
        "tf_vectorizer = TfidfVectorizer(use_idf=True, lowercase=True, strip_accents='ascii', stop_words=stopset)"
      ],
      "execution_count": null,
      "outputs": []
    },
    {
      "cell_type": "code",
      "metadata": {
        "id": "ubANAqV9tnTs"
      },
      "source": [
        "X = tf_vectorizer.fit_transform(tweet.tokenized_tweet)\n",
        "y = tweet.airline_sentiment"
      ],
      "execution_count": null,
      "outputs": []
    },
    {
      "cell_type": "code",
      "metadata": {
        "colab": {
          "base_uri": "https://localhost:8080/",
          "height": 35
        },
        "id": "GvhnZetet10W",
        "outputId": "4428d57c-c195-4ceb-c50c-8570038c493a"
      },
      "source": [
        "max(tf_vectorizer.get_feature_names())\n"
      ],
      "execution_count": null,
      "outputs": [
        {
          "output_type": "execute_result",
          "data": {
            "application/vnd.google.colaboratory.intrinsic+json": {
              "type": "string"
            },
            "text/plain": [
              "'zurich'"
            ]
          },
          "metadata": {
            "tags": []
          },
          "execution_count": 102
        }
      ]
    },
    {
      "cell_type": "code",
      "metadata": {
        "id": "5-HE2wUrt22r"
      },
      "source": [
        "X_train,X_test,Y_train,Y_test = train_test_split(X,y,test_size=0.4)\n"
      ],
      "execution_count": null,
      "outputs": []
    },
    {
      "cell_type": "code",
      "metadata": {
        "id": "lqrPXWvGuUtt"
      },
      "source": [
        "clf_tf = svm.SVC()\n"
      ],
      "execution_count": null,
      "outputs": []
    },
    {
      "cell_type": "code",
      "metadata": {
        "colab": {
          "base_uri": "https://localhost:8080/"
        },
        "id": "KqN5LJcYuu_I",
        "outputId": "b9a21f6f-201a-4beb-e3b3-94298d809959"
      },
      "source": [
        "clf_tf.fit(X_train,Y_train)"
      ],
      "execution_count": null,
      "outputs": [
        {
          "output_type": "execute_result",
          "data": {
            "text/plain": [
              "SVC(C=1.0, break_ties=False, cache_size=200, class_weight=None, coef0=0.0,\n",
              "    decision_function_shape='ovr', degree=3, gamma='scale', kernel='rbf',\n",
              "    max_iter=-1, probability=False, random_state=None, shrinking=True,\n",
              "    tol=0.001, verbose=False)"
            ]
          },
          "metadata": {
            "tags": []
          },
          "execution_count": 105
        }
      ]
    },
    {
      "cell_type": "code",
      "metadata": {
        "id": "QS5NJl6Ru7Ym"
      },
      "source": [
        "tf_train_pred=clf_tf.predict(X_train)"
      ],
      "execution_count": null,
      "outputs": []
    },
    {
      "cell_type": "code",
      "metadata": {
        "colab": {
          "base_uri": "https://localhost:8080/"
        },
        "id": "pfci1wknwnWi",
        "outputId": "fd730c21-5caa-4e73-c89a-493caac02abb"
      },
      "source": [
        "tf_train_pred"
      ],
      "execution_count": null,
      "outputs": [
        {
          "output_type": "execute_result",
          "data": {
            "text/plain": [
              "array(['positive', 'negative', 'negative', ..., 'negative', 'negative',\n",
              "       'positive'], dtype=object)"
            ]
          },
          "metadata": {
            "tags": []
          },
          "execution_count": 107
        }
      ]
    },
    {
      "cell_type": "code",
      "metadata": {
        "id": "stVtV9_evpTO"
      },
      "source": [
        "tf_test_pred=clf_tf.predict(X_test)"
      ],
      "execution_count": null,
      "outputs": []
    },
    {
      "cell_type": "code",
      "metadata": {
        "colab": {
          "base_uri": "https://localhost:8080/"
        },
        "id": "XdC3CprlvujP",
        "outputId": "fea77fd4-36a2-4ac5-ed33-f8927a48473e"
      },
      "source": [
        "# Confusion matrices for train and test \n",
        "\n",
        "print(confusion_matrix(Y_train,tf_train_pred))\n",
        "print(confusion_matrix(Y_test,tf_test_pred))"
      ],
      "execution_count": null,
      "outputs": [
        {
          "output_type": "stream",
          "text": [
            "[[5503    5]\n",
            " [  72 1344]]\n",
            "[[3624   46]\n",
            " [ 435  512]]\n"
          ],
          "name": "stdout"
        }
      ]
    },
    {
      "cell_type": "code",
      "metadata": {
        "colab": {
          "base_uri": "https://localhost:8080/"
        },
        "id": "_wTHyvF8wPIW",
        "outputId": "d004e6a2-5f2f-44e7-d5ed-9376026f6018"
      },
      "source": [
        "# Print the classification report for train and test\n",
        "print(classification_report(y_train,tf_train_pred))\n",
        "print(\"\\n\")\n",
        "print(classification_report(y_test,tf_test_pred))"
      ],
      "execution_count": null,
      "outputs": [
        {
          "output_type": "stream",
          "text": [
            "              precision    recall  f1-score   support\n",
            "\n",
            "    negative       0.80      0.81      0.80      5506\n",
            "    positive       0.21      0.20      0.20      1418\n",
            "\n",
            "    accuracy                           0.68      6924\n",
            "   macro avg       0.50      0.50      0.50      6924\n",
            "weighted avg       0.67      0.68      0.68      6924\n",
            "\n",
            "\n",
            "\n",
            "              precision    recall  f1-score   support\n",
            "\n",
            "    negative       0.79      0.88      0.83      3672\n",
            "    positive       0.18      0.11      0.13       945\n",
            "\n",
            "    accuracy                           0.72      4617\n",
            "   macro avg       0.49      0.49      0.48      4617\n",
            "weighted avg       0.67      0.72      0.69      4617\n",
            "\n"
          ],
          "name": "stdout"
        }
      ]
    },
    {
      "cell_type": "markdown",
      "metadata": {
        "id": "17Kqx51b8OEO"
      },
      "source": [
        "##**Roc and precison recall curve for Tfidf train data.**\n"
      ]
    },
    {
      "cell_type": "code",
      "metadata": {
        "colab": {
          "base_uri": "https://localhost:8080/",
          "height": 297
        },
        "id": "5r87_Rx_xCLW",
        "outputId": "f4f542ef-fc8c-43cc-8e48-f3ec3a07b4d9"
      },
      "source": [
        "metrics.plot_roc_curve(clf_tf, X_train, Y_train)\n"
      ],
      "execution_count": null,
      "outputs": [
        {
          "output_type": "execute_result",
          "data": {
            "text/plain": [
              "<sklearn.metrics._plot.roc_curve.RocCurveDisplay at 0x7f48d51171d0>"
            ]
          },
          "metadata": {
            "tags": []
          },
          "execution_count": 111
        },
        {
          "output_type": "display_data",
          "data": {
            "image/png": "[encoded data removed]",
            "text/plain": [
              "<Figure size 432x288 with 1 Axes>"
            ]
          },
          "metadata": {
            "tags": [],
            "needs_background": "light"
          }
        }
      ]
    },
    {
      "cell_type": "code",
      "metadata": {
        "colab": {
          "base_uri": "https://localhost:8080/",
          "height": 297
        },
        "id": "3AZsamPe8YBU",
        "outputId": "b7295f3d-81b2-4bbf-c1c3-515bda059eb7"
      },
      "source": [
        "plot_precision_recall_curve(clf_tf, X_train, Y_train)\n"
      ],
      "execution_count": null,
      "outputs": [
        {
          "output_type": "execute_result",
          "data": {
            "text/plain": [
              "<sklearn.metrics._plot.precision_recall_curve.PrecisionRecallDisplay at 0x7f48d4dc52b0>"
            ]
          },
          "metadata": {
            "tags": []
          },
          "execution_count": 112
        },
        {
          "output_type": "display_data",
          "data": {
            "image/png": "[encoded data removed]",
            "text/plain": [
              "<Figure size 432x288 with 1 Axes>"
            ]
          },
          "metadata": {
            "tags": [],
            "needs_background": "light"
          }
        }
      ]
    },
    {
      "cell_type": "markdown",
      "metadata": {
        "id": "z21ksan88hgo"
      },
      "source": [
        "##**Roc and precison recall curve for Tfidf test data.**\n"
      ]
    },
    {
      "cell_type": "code",
      "metadata": {
        "colab": {
          "base_uri": "https://localhost:8080/",
          "height": 297
        },
        "id": "pRZUBl1cxUO3",
        "outputId": "685d94a2-e897-45d0-9d92-4c9a16dd619a"
      },
      "source": [
        "metrics.plot_roc_curve(clf_tf, X_test, Y_test)\n"
      ],
      "execution_count": null,
      "outputs": [
        {
          "output_type": "execute_result",
          "data": {
            "text/plain": [
              "<sklearn.metrics._plot.roc_curve.RocCurveDisplay at 0x7f48d4d5f630>"
            ]
          },
          "metadata": {
            "tags": []
          },
          "execution_count": 113
        },
        {
          "output_type": "display_data",
          "data": {
            "image/png": "[encoded data removed]",
            "text/plain": [
              "<Figure size 432x288 with 1 Axes>"
            ]
          },
          "metadata": {
            "tags": [],
            "needs_background": "light"
          }
        }
      ]
    },
    {
      "cell_type": "code",
      "metadata": {
        "colab": {
          "base_uri": "https://localhost:8080/",
          "height": 297
        },
        "id": "GlJ6Kf-pw7An",
        "outputId": "df7e6897-8727-4fda-912f-37db0754a27c"
      },
      "source": [
        "plot_precision_recall_curve(clf_tf, X_test, Y_test)\n"
      ],
      "execution_count": null,
      "outputs": [
        {
          "output_type": "execute_result",
          "data": {
            "text/plain": [
              "<sklearn.metrics._plot.precision_recall_curve.PrecisionRecallDisplay at 0x7f48d4d5fc18>"
            ]
          },
          "metadata": {
            "tags": []
          },
          "execution_count": 114
        },
        {
          "output_type": "display_data",
          "data": {
            "image/png": "[encoded data removed]",
            "text/plain": [
              "<Figure size 432x288 with 1 Axes>"
            ]
          },
          "metadata": {
            "tags": [],
            "needs_background": "light"
          }
        }
      ]
    },
    {
      "cell_type": "markdown",
      "metadata": {
        "id": "DSEX-_3WxsOz"
      },
      "source": [
        "##Apply grid parameters"
      ]
    },
    {
      "cell_type": "code",
      "metadata": {
        "id": "cTW2cNNc9nJJ"
      },
      "source": [
        "param_dict = {'C': [0.1, 1, 10, 1000],  \n",
        "              'gamma': [1, 0.1, 0.01, 0.0001], \n",
        "              'kernel': ['rbf','linear','poly']} \n",
        "\n"
      ],
      "execution_count": null,
      "outputs": []
    },
    {
      "cell_type": "code",
      "metadata": {
        "id": "ci343h8m9y7E"
      },
      "source": [
        "grid_tf = GridSearchCV(clf, param_dict,n_jobs=2, cv=5, verbose = 10,scoring='accuracy') \n"
      ],
      "execution_count": null,
      "outputs": []
    },
    {
      "cell_type": "code",
      "metadata": {
        "colab": {
          "base_uri": "https://localhost:8080/"
        },
        "id": "dtLml7EKx1YQ",
        "outputId": "49ff4ee5-4267-4144-9993-e87cf134cd98"
      },
      "source": [
        "grid_tf.fit(X_train,Y_train)"
      ],
      "execution_count": null,
      "outputs": [
        {
          "output_type": "stream",
          "text": [
            "Fitting 5 folds for each of 48 candidates, totalling 240 fits\n"
          ],
          "name": "stdout"
        },
        {
          "output_type": "stream",
          "text": [
            "[Parallel(n_jobs=2)]: Using backend LokyBackend with 2 concurrent workers.\n",
            "[Parallel(n_jobs=2)]: Done   1 tasks      | elapsed:    5.0s\n",
            "[Parallel(n_jobs=2)]: Done   4 tasks      | elapsed:   10.0s\n",
            "[Parallel(n_jobs=2)]: Done   9 tasks      | elapsed:   19.1s\n",
            "[Parallel(n_jobs=2)]: Done  14 tasks      | elapsed:   34.9s\n",
            "[Parallel(n_jobs=2)]: Done  21 tasks      | elapsed:   49.0s\n",
            "[Parallel(n_jobs=2)]: Done  28 tasks      | elapsed:   58.8s\n",
            "[Parallel(n_jobs=2)]: Done  37 tasks      | elapsed:  1.2min\n",
            "[Parallel(n_jobs=2)]: Done  46 tasks      | elapsed:  1.4min\n",
            "[Parallel(n_jobs=2)]: Done  57 tasks      | elapsed:  1.7min\n",
            "[Parallel(n_jobs=2)]: Done  68 tasks      | elapsed:  2.1min\n",
            "[Parallel(n_jobs=2)]: Done  81 tasks      | elapsed:  2.6min\n",
            "[Parallel(n_jobs=2)]: Done  94 tasks      | elapsed:  3.0min\n",
            "[Parallel(n_jobs=2)]: Done 109 tasks      | elapsed:  3.3min\n",
            "[Parallel(n_jobs=2)]: Done 124 tasks      | elapsed:  3.8min\n",
            "[Parallel(n_jobs=2)]: Done 141 tasks      | elapsed:  4.5min\n",
            "[Parallel(n_jobs=2)]: Done 158 tasks      | elapsed:  5.2min\n",
            "[Parallel(n_jobs=2)]: Done 177 tasks      | elapsed:  5.6min\n",
            "[Parallel(n_jobs=2)]: Done 196 tasks      | elapsed:  6.5min\n",
            "[Parallel(n_jobs=2)]: Done 217 tasks      | elapsed:  7.3min\n",
            "[Parallel(n_jobs=2)]: Done 240 out of 240 | elapsed:  7.8min finished\n"
          ],
          "name": "stderr"
        },
        {
          "output_type": "execute_result",
          "data": {
            "text/plain": [
              "GridSearchCV(cv=5, error_score=nan,\n",
              "             estimator=SVC(C=1.0, break_ties=False, cache_size=200,\n",
              "                           class_weight=None, coef0=0.0,\n",
              "                           decision_function_shape='ovr', degree=3,\n",
              "                           gamma='scale', kernel='rbf', max_iter=-1,\n",
              "                           probability=False, random_state=None, shrinking=True,\n",
              "                           tol=0.001, verbose=False),\n",
              "             iid='deprecated', n_jobs=2,\n",
              "             param_grid={'C': [0.1, 1, 10, 1000],\n",
              "                         'gamma': [1, 0.1, 0.01, 0.0001],\n",
              "                         'kernel': ['rbf', 'linear', 'poly']},\n",
              "             pre_dispatch='2*n_jobs', refit=True, return_train_score=False,\n",
              "             scoring='accuracy', verbose=10)"
            ]
          },
          "metadata": {
            "tags": []
          },
          "execution_count": 117
        }
      ]
    },
    {
      "cell_type": "code",
      "metadata": {
        "id": "wBbPBDuNx5xe"
      },
      "source": [
        "gridtf_train_pred=grid_tf.predict(X_train)"
      ],
      "execution_count": null,
      "outputs": []
    },
    {
      "cell_type": "code",
      "metadata": {
        "id": "miBgXGq80pWk"
      },
      "source": [
        "gridtf_test_pred=grid_tf.predict(X_test)"
      ],
      "execution_count": null,
      "outputs": []
    },
    {
      "cell_type": "code",
      "metadata": {
        "colab": {
          "base_uri": "https://localhost:8080/"
        },
        "id": "Efk6R5GH04vh",
        "outputId": "b7aecc1f-782f-4ddc-89e2-47121348037f"
      },
      "source": [
        "# Confusion matrices for train and test \n",
        "\n",
        "print(confusion_matrix(Y_train,gridtf_train_pred))\n",
        "print(confusion_matrix(Y_test,gridtf_test_pred))"
      ],
      "execution_count": null,
      "outputs": [
        {
          "output_type": "stream",
          "text": [
            "[[5480   28]\n",
            " [ 166 1250]]\n",
            "[[3595   75]\n",
            " [ 322  625]]\n"
          ],
          "name": "stdout"
        }
      ]
    },
    {
      "cell_type": "code",
      "metadata": {
        "colab": {
          "base_uri": "https://localhost:8080/"
        },
        "id": "6Kibt_lJ1DaV",
        "outputId": "b0e8ede7-f9ad-43ea-f3b5-f99ae8e747ff"
      },
      "source": [
        "# Print the classification report for train and test\n",
        "print(classification_report(Y_train,gridtf_train_pred))\n",
        "print(\"\\n\")\n",
        "print(classification_report(Y_test,gridtf_test_pred))"
      ],
      "execution_count": null,
      "outputs": [
        {
          "output_type": "stream",
          "text": [
            "              precision    recall  f1-score   support\n",
            "\n",
            "    negative       0.97      0.99      0.98      5508\n",
            "    positive       0.98      0.88      0.93      1416\n",
            "\n",
            "    accuracy                           0.97      6924\n",
            "   macro avg       0.97      0.94      0.96      6924\n",
            "weighted avg       0.97      0.97      0.97      6924\n",
            "\n",
            "\n",
            "\n",
            "              precision    recall  f1-score   support\n",
            "\n",
            "    negative       0.92      0.98      0.95      3670\n",
            "    positive       0.89      0.66      0.76       947\n",
            "\n",
            "    accuracy                           0.91      4617\n",
            "   macro avg       0.91      0.82      0.85      4617\n",
            "weighted avg       0.91      0.91      0.91      4617\n",
            "\n"
          ],
          "name": "stdout"
        }
      ]
    },
    {
      "cell_type": "markdown",
      "metadata": {
        "id": "B2k3CnAF9HNv"
      },
      "source": [
        "##**Roc and precison recall curve for train and test data.**\n"
      ]
    },
    {
      "cell_type": "code",
      "metadata": {
        "colab": {
          "base_uri": "https://localhost:8080/",
          "height": 297
        },
        "id": "bWKY4flr1SfJ",
        "outputId": "288a9fb6-2f7d-4fcf-967b-80e46dc0f7ba"
      },
      "source": [
        "metrics.plot_roc_curve(grid_tf, X_train, Y_train)\n"
      ],
      "execution_count": null,
      "outputs": [
        {
          "output_type": "execute_result",
          "data": {
            "text/plain": [
              "<sklearn.metrics._plot.roc_curve.RocCurveDisplay at 0x7f48d655c6d8>"
            ]
          },
          "metadata": {
            "tags": []
          },
          "execution_count": 122
        },
        {
          "output_type": "display_data",
          "data": {
            "image/png": "[encoded data removed]",
            "text/plain": [
              "<Figure size 432x288 with 1 Axes>"
            ]
          },
          "metadata": {
            "tags": [],
            "needs_background": "light"
          }
        }
      ]
    },
    {
      "cell_type": "code",
      "metadata": {
        "colab": {
          "base_uri": "https://localhost:8080/",
          "height": 297
        },
        "id": "3EvVbfkh1i4a",
        "outputId": "6c85207d-ac4d-4ede-9fbf-20b0aa3df51b"
      },
      "source": [
        "plot_precision_recall_curve(grid_tf, X_train, Y_train)\n"
      ],
      "execution_count": null,
      "outputs": [
        {
          "output_type": "execute_result",
          "data": {
            "text/plain": [
              "<sklearn.metrics._plot.precision_recall_curve.PrecisionRecallDisplay at 0x7f48de83f9b0>"
            ]
          },
          "metadata": {
            "tags": []
          },
          "execution_count": 123
        },
        {
          "output_type": "display_data",
          "data": {
            "image/png": "[encoded data removed]",
            "text/plain": [
              "<Figure size 432x288 with 1 Axes>"
            ]
          },
          "metadata": {
            "tags": [],
            "needs_background": "light"
          }
        }
      ]
    },
    {
      "cell_type": "code",
      "metadata": {
        "colab": {
          "base_uri": "https://localhost:8080/",
          "height": 297
        },
        "id": "gD0b19RJACkR",
        "outputId": "6b669176-5648-4761-952e-b7b04d945a6e"
      },
      "source": [
        "metrics.plot_roc_curve(grid_tf, X_test, Y_test)\n"
      ],
      "execution_count": null,
      "outputs": [
        {
          "output_type": "execute_result",
          "data": {
            "text/plain": [
              "<sklearn.metrics._plot.roc_curve.RocCurveDisplay at 0x7f48d50e1160>"
            ]
          },
          "metadata": {
            "tags": []
          },
          "execution_count": 124
        },
        {
          "output_type": "display_data",
          "data": {
            "image/png": "[encoded data removed]",
            "text/plain": [
              "<Figure size 432x288 with 1 Axes>"
            ]
          },
          "metadata": {
            "tags": [],
            "needs_background": "light"
          }
        }
      ]
    },
    {
      "cell_type": "code",
      "metadata": {
        "colab": {
          "base_uri": "https://localhost:8080/",
          "height": 297
        },
        "id": "sJ3Ghkp3AAPU",
        "outputId": "af5260e4-6071-4b48-8463-0fe4cbd14689"
      },
      "source": [
        "plot_precision_recall_curve(grid_tf, X_test, Y_test)\n"
      ],
      "execution_count": null,
      "outputs": [
        {
          "output_type": "execute_result",
          "data": {
            "text/plain": [
              "<sklearn.metrics._plot.precision_recall_curve.PrecisionRecallDisplay at 0x7f48d50d90f0>"
            ]
          },
          "metadata": {
            "tags": []
          },
          "execution_count": 125
        },
        {
          "output_type": "display_data",
          "data": {
            "image/png": "[encoded data removed]",
            "text/plain": [
              "<Figure size 432x288 with 1 Axes>"
            ]
          },
          "metadata": {
            "tags": [],
            "needs_background": "light"
          }
        }
      ]
    },
    {
      "cell_type": "markdown",
      "metadata": {
        "id": "AfnquxY3Aph-"
      },
      "source": [
        "##Based on the metrics all the models are doing well on train as well as test data."
      ]
    },
    {
      "cell_type": "code",
      "metadata": {
        "id": "sbvUnaI6A37x"
      },
      "source": [
        ""
      ],
      "execution_count": null,
      "outputs": []
    }
  ]
}