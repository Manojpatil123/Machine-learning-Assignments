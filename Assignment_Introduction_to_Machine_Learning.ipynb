{
  "nbformat": 4,
  "nbformat_minor": 0,
  "metadata": {
    "colab": {
      "name": "Assignment - Introduction to Machine Learning.ipynb",
      "provenance": [],
      "collapsed_sections": [],
      "include_colab_link": true
    },
    "kernelspec": {
      "name": "python3",
      "display_name": "Python 3"
    }
  },
  "cells": [
    {
      "cell_type": "markdown",
      "metadata": {
        "id": "view-in-github",
        "colab_type": "text"
      },
      "source": [
        "<a href=\"https://colab.research.google.com/github/Manojpatil123/Machine-learning-Assignments/blob/main/Assignment_Introduction_to_Machine_Learning.ipynb\" target=\"_parent\"><img src=\"https://colab.research.google.com/assets/colab-badge.svg\" alt=\"Open In Colab\"/></a>"
      ]
    },
    {
      "cell_type": "markdown",
      "metadata": {
        "id": "Oq9OIkpjU3hr"
      },
      "source": [
        "# <b> Write a detailed blog on the introduction to machine learning wherein you will discuss about ideas of supervised, unsupervised and reinforcement learning. Also elaborate these ideas by expanding upon your understanding of classification, regression and clustering. Also lay down the steps involved in supervised learning. Use relevant and unique examples for discussing each ML technique.</b>"
      ]
    },
    {
      "cell_type": "code",
      "metadata": {
        "id": "p0gkUooyR6Ix"
      },
      "source": [
        ""
      ],
      "execution_count": null,
      "outputs": []
    },
    {
      "cell_type": "markdown",
      "source": [
        "Introduction to Machine Learning for Beginners\n",
        "We have seen Machine Learning as a buzzword for the past few years, the reason for this might be the high amount of data production by applications, the increase of computation power in the past few years and the development of better algorithms.\n",
        "\n",
        "Machine Learning is used anywhere from automating mundane tasks to offering intelligent insights, industries in every sector try to benefit from it. You may already be using a device that utilizes it. For example, a wearable fitness tracker like Fitbit, or an intelligent home assistant like Google Home. But there are much more examples of ML in use.\n",
        "\n",
        "Prediction — Machine learning can also be used in the prediction systems. Considering the loan example, to compute the probability of a fault, the system will need to classify the available data in groups.\n",
        "Image recognition — Machine learning can be used for face detection in an image as well. There is a separate category for each person in a database of several people.\n",
        "Speech Recognition — It is the translation of spoken words into the text. It is used in voice searches and more. Voice user interfaces include voice dialing, call routing, and appliance control. It can also be used a simple data entry and the preparation of structured documents.\n",
        "Medical diagnoses — ML is trained to recognize cancerous tissues.\n",
        "Financial industry and trading — companies use ML in fraud investigations and credit checks."
      ],
      "metadata": {
        "id": "hS1KZm2jGgKo"
      }
    },
    {
      "cell_type": "markdown",
      "source": [
        "What is Machine Learning?\n",
        "\n",
        "According to Arthur Samuel, Machine Learning algorithms enable the computers to learn from data, and even improve themselves, without being explicitly programmed.\n",
        "\n",
        "Machine learning (ML) is a category of an algorithm that allows software applications to become more accurate in predicting outcomes without being explicitly programmed. The basic premise of machine learning is to build algorithms that can receive input data and use statistical analysis to predict an output while updating outputs as new data becomes available.\n",
        "\n",
        "Types of Machine Learning?\n",
        "Machine learning can be classified into 3 types of algorithms.\n",
        "\n",
        "Supervised Learning \n",
        "\n",
        "Unsupervised Learning \n",
        "\n",
        "Reinforcement Learning \n",
        "\n",
        "3 Types of Learning\n",
        "Overview of Supervised Learning Algorithm\n",
        "In Supervised learning, an AI system is presented with data which is labeled, which means that each data tagged with the correct label.\n",
        "\n",
        "The goal is to approximate the mapping function so well that when you have new input data (x) that you can predict the output variables (Y) for that data.\n",
        "\n",
        "\n",
        "Example of Supervised Learning\n",
        "As shown in the above example, we have initially taken some data and marked them as ‘Spam’ or ‘Not Spam’. This labeled data is used by the training supervised model, this data is used to train the model.\n",
        "\n",
        "Once it is trained we can test our model by testing it with some test new mails and checking of the model is able to predict the right output.\n",
        "\n",
        "Types of Supervised learning\n",
        "\n",
        "Classification: A classification problem is when the output variable is a category, such as “red” or “blue” or “disease” and “no disease”.\n",
        "Regression: A regression problem is when the output variable is a real value, such as “dollars” or “weight”.\n",
        "\n",
        "Overview of Unsupervised Learning Algorithm\n",
        "\n",
        "In unsupervised learning, an AI system is presented with unlabeled, uncategorized data and the system’s algorithms act on the data without prior training. The output is dependent upon the coded algorithms. Subjecting a system to unsupervised learning is one way of testing AI.\n",
        "\n",
        "\n",
        "Example of Unsupervised Learning\n",
        "\n",
        "In the above example, we have given some characters to our model which are ‘Ducks’ and ‘Not Ducks’. In our training data, we don’t provide any label to the corresponding data. The unsupervised model is able to separate both the characters by looking at the type of data and models the underlying structure or distribution in the data in order to learn more about it.\n",
        "\n",
        "Types of Unsupervised learning\n",
        "\n",
        "Clustering: A clustering problem is where you want to discover the inherent groupings in the data, such as grouping customers by purchasing behavior.\n",
        "Association: An association rule learning problem is where you want to discover rules that describe large portions of your data, such as people that buy X also tend to buy Y.\n",
        "Overview of Reinforcement Learning\n",
        "A reinforcement learning algorithm, or agent, learns by interacting with its environment. The agent receives rewards by performing correctly and penalties for performing incorrectly. The agent learns without intervention from a human by maximizing its reward and minimizing its penalty. It is a type of dynamic programming that trains algorithms using a system of reward and punishment.\n",
        "\n",
        "\n",
        "Example of Reinforcement Learning\n",
        "\n",
        "In the above example, we can see that the agent is given 2 options i.e. a path with water or a path with fire. A reinforcement algorithm works on reward a system i.e. if the agent uses the fire path then the rewards are subtracted and agent tries to learn that it should avoid the fire path. If it had chosen the water path or the safe path then some points would have been added to the reward points, the agent then would try to learn what path is safe and what path isn’t.\n",
        "\n",
        "It is basically leveraging the rewards obtained, the agent improves its environment knowledge to select the next action.\n",
        "\n",
        "Summary\n",
        "\n",
        "In this blog, I have presented you with the basics concepts of Machine learning and I hope this blog was helpful and would have motivated you enough to get interested in the topic.\n",
        "\n"
      ],
      "metadata": {
        "id": "B-bIK9okGhT3"
      }
    }
  ]
}