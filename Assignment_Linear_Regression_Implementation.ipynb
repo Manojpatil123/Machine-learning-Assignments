{
  "nbformat": 4,
  "nbformat_minor": 0,
  "metadata": {
    "kernelspec": {
      "display_name": "Python 3",
      "language": "python",
      "name": "python3"
    },
    "language_info": {
      "codemirror_mode": {
        "name": "ipython",
        "version": 3
      },
      "file_extension": ".py",
      "mimetype": "text/x-python",
      "name": "python",
      "nbconvert_exporter": "python",
      "pygments_lexer": "ipython3",
      "version": "3.7.1"
    },
    "colab": {
      "name": "Assignment  - Linear Regression Implementation.ipynb",
      "provenance": [],
      "collapsed_sections": [],
      "include_colab_link": true
    }
  },
  "cells": [
    {
      "cell_type": "markdown",
      "metadata": {
        "id": "view-in-github",
        "colab_type": "text"
      },
      "source": [
        "<a href=\"https://colab.research.google.com/github/Manojpatil123/Machine-learning-Assignments/blob/main/Assignment_Linear_Regression_Implementation.ipynb\" target=\"_parent\"><img src=\"https://colab.research.google.com/assets/colab-badge.svg\" alt=\"Open In Colab\"/></a>"
      ]
    },
    {
      "cell_type": "markdown",
      "metadata": {
        "id": "PYsTFWXYjCxF"
      },
      "source": [
        "### <u> Objective </u>\n",
        "* ### To predict the profit made by a startup on the basis of expenses incurred and the state where they operate\n",
        "\n",
        "### <u> Tasks </u>\n",
        "* ### Validate all the assumptions\n",
        "* ### Compute all the regression evaluation metrics\n",
        "* ### Comment on the best evaluation metrics for this problem"
      ]
    },
    {
      "cell_type": "code",
      "metadata": {
        "id": "tkMhzOURjCxF"
      },
      "source": [
        "# Importing the libraries\n",
        "import numpy as np\n",
        "import pandas as pd\n",
        "from numpy import math\n",
        "\n",
        "from sklearn.preprocessing import MinMaxScaler\n",
        "from sklearn.model_selection import train_test_split\n",
        "from sklearn.linear_model import LinearRegression\n",
        "from sklearn.metrics import r2_score\n",
        "from sklearn.metrics import mean_squared_error\n",
        "from sklearn.metrics import mean_absolute_error\n",
        "\n",
        "import matplotlib.pyplot as plt\n",
        "import seaborn as sns"
      ],
      "execution_count": null,
      "outputs": []
    },
    {
      "cell_type": "code",
      "metadata": {
        "colab": {
          "base_uri": "https://localhost:8080/"
        },
        "id": "rq-UR-BIj1AC",
        "outputId": "5e730304-beee-4fd7-fb71-5b7867b75a0b"
      },
      "source": [
        "from google.colab import drive\n",
        "drive.mount('/content/drive')"
      ],
      "execution_count": null,
      "outputs": [
        {
          "output_type": "stream",
          "name": "stdout",
          "text": [
            "Mounted at /content/drive\n"
          ]
        }
      ]
    },
    {
      "cell_type": "code",
      "metadata": {
        "id": "tPpx4MzcjCxG"
      },
      "source": [
        "# Importing the dataset\n",
        "dataset = pd.read_csv('/content/drive/MyDrive/data/50_Startups.csv')"
      ],
      "execution_count": null,
      "outputs": []
    },
    {
      "cell_type": "code",
      "metadata": {
        "id": "1ZRdDurrjCxG",
        "colab": {
          "base_uri": "https://localhost:8080/"
        },
        "outputId": "69080008-14ef-48b9-87f2-97608e1d4733"
      },
      "source": [
        "len(dataset)"
      ],
      "execution_count": null,
      "outputs": [
        {
          "output_type": "execute_result",
          "data": {
            "text/plain": [
              "50"
            ]
          },
          "metadata": {},
          "execution_count": 4
        }
      ]
    },
    {
      "cell_type": "code",
      "metadata": {
        "id": "09Lq6u-JjCxI",
        "colab": {
          "base_uri": "https://localhost:8080/",
          "height": 206
        },
        "outputId": "f35fc5f6-61cb-411b-f3bf-ac96f4d8d95c"
      },
      "source": [
        "dataset.head()"
      ],
      "execution_count": null,
      "outputs": [
        {
          "output_type": "execute_result",
          "data": {
            "text/plain": [
              "   R&D Spend  Administration  Marketing Spend       State     Profit\n",
              "0  165349.20       136897.80        471784.10    New York  192261.83\n",
              "1  162597.70       151377.59        443898.53  California  191792.06\n",
              "2  153441.51       101145.55        407934.54     Florida  191050.39\n",
              "3  144372.41       118671.85        383199.62    New York  182901.99\n",
              "4  142107.34        91391.77        366168.42     Florida  166187.94"
            ],
            "text/html": [
              "\n",
              "  <div id=\"df-e6ee261b-033f-4d49-9dcc-bd646638bf01\">\n",
              "    <div class=\"colab-df-container\">\n",
              "      <div>\n",
              "<style scoped>\n",
              "    .dataframe tbody tr th:only-of-type {\n",
              "        vertical-align: middle;\n",
              "    }\n",
              "\n",
              "    .dataframe tbody tr th {\n",
              "        vertical-align: top;\n",
              "    }\n",
              "\n",
              "    .dataframe thead th {\n",
              "        text-align: right;\n",
              "    }\n",
              "</style>\n",
              "<table border=\"1\" class=\"dataframe\">\n",
              "  <thead>\n",
              "    <tr style=\"text-align: right;\">\n",
              "      <th></th>\n",
              "      <th>R&amp;D Spend</th>\n",
              "      <th>Administration</th>\n",
              "      <th>Marketing Spend</th>\n",
              "      <th>State</th>\n",
              "      <th>Profit</th>\n",
              "    </tr>\n",
              "  </thead>\n",
              "  <tbody>\n",
              "    <tr>\n",
              "      <th>0</th>\n",
              "      <td>165349.20</td>\n",
              "      <td>136897.80</td>\n",
              "      <td>471784.10</td>\n",
              "      <td>New York</td>\n",
              "      <td>192261.83</td>\n",
              "    </tr>\n",
              "    <tr>\n",
              "      <th>1</th>\n",
              "      <td>162597.70</td>\n",
              "      <td>151377.59</td>\n",
              "      <td>443898.53</td>\n",
              "      <td>California</td>\n",
              "      <td>191792.06</td>\n",
              "    </tr>\n",
              "    <tr>\n",
              "      <th>2</th>\n",
              "      <td>153441.51</td>\n",
              "      <td>101145.55</td>\n",
              "      <td>407934.54</td>\n",
              "      <td>Florida</td>\n",
              "      <td>191050.39</td>\n",
              "    </tr>\n",
              "    <tr>\n",
              "      <th>3</th>\n",
              "      <td>144372.41</td>\n",
              "      <td>118671.85</td>\n",
              "      <td>383199.62</td>\n",
              "      <td>New York</td>\n",
              "      <td>182901.99</td>\n",
              "    </tr>\n",
              "    <tr>\n",
              "      <th>4</th>\n",
              "      <td>142107.34</td>\n",
              "      <td>91391.77</td>\n",
              "      <td>366168.42</td>\n",
              "      <td>Florida</td>\n",
              "      <td>166187.94</td>\n",
              "    </tr>\n",
              "  </tbody>\n",
              "</table>\n",
              "</div>\n",
              "      <button class=\"colab-df-convert\" onclick=\"convertToInteractive('df-e6ee261b-033f-4d49-9dcc-bd646638bf01')\"\n",
              "              title=\"Convert this dataframe to an interactive table.\"\n",
              "              style=\"display:none;\">\n",
              "        \n",
              "  <svg xmlns=\"http://www.w3.org/2000/svg\" height=\"24px\"viewBox=\"0 0 24 24\"\n",
              "       width=\"24px\">\n",
              "    <path d=\"M0 0h24v24H0V0z\" fill=\"none\"/>\n",
              "    <path d=\"M18.56 5.44l.94 2.06.94-2.06 2.06-.94-2.06-.94-.94-2.06-.94 2.06-2.06.94zm-11 1L8.5 8.5l.94-2.06 2.06-.94-2.06-.94L8.5 2.5l-.94 2.06-2.06.94zm10 10l.94 2.06.94-2.06 2.06-.94-2.06-.94-.94-2.06-.94 2.06-2.06.94z\"/><path d=\"M17.41 7.96l-1.37-1.37c-.4-.4-.92-.59-1.43-.59-.52 0-1.04.2-1.43.59L10.3 9.45l-7.72 7.72c-.78.78-.78 2.05 0 2.83L4 21.41c.39.39.9.59 1.41.59.51 0 1.02-.2 1.41-.59l7.78-7.78 2.81-2.81c.8-.78.8-2.07 0-2.86zM5.41 20L4 18.59l7.72-7.72 1.47 1.35L5.41 20z\"/>\n",
              "  </svg>\n",
              "      </button>\n",
              "      \n",
              "  <style>\n",
              "    .colab-df-container {\n",
              "      display:flex;\n",
              "      flex-wrap:wrap;\n",
              "      gap: 12px;\n",
              "    }\n",
              "\n",
              "    .colab-df-convert {\n",
              "      background-color: #E8F0FE;\n",
              "      border: none;\n",
              "      border-radius: 50%;\n",
              "      cursor: pointer;\n",
              "      display: none;\n",
              "      fill: #1967D2;\n",
              "      height: 32px;\n",
              "      padding: 0 0 0 0;\n",
              "      width: 32px;\n",
              "    }\n",
              "\n",
              "    .colab-df-convert:hover {\n",
              "      background-color: #E2EBFA;\n",
              "      box-shadow: 0px 1px 2px rgba(60, 64, 67, 0.3), 0px 1px 3px 1px rgba(60, 64, 67, 0.15);\n",
              "      fill: #174EA6;\n",
              "    }\n",
              "\n",
              "    [theme=dark] .colab-df-convert {\n",
              "      background-color: #3B4455;\n",
              "      fill: #D2E3FC;\n",
              "    }\n",
              "\n",
              "    [theme=dark] .colab-df-convert:hover {\n",
              "      background-color: #434B5C;\n",
              "      box-shadow: 0px 1px 3px 1px rgba(0, 0, 0, 0.15);\n",
              "      filter: drop-shadow(0px 1px 2px rgba(0, 0, 0, 0.3));\n",
              "      fill: #FFFFFF;\n",
              "    }\n",
              "  </style>\n",
              "\n",
              "      <script>\n",
              "        const buttonEl =\n",
              "          document.querySelector('#df-e6ee261b-033f-4d49-9dcc-bd646638bf01 button.colab-df-convert');\n",
              "        buttonEl.style.display =\n",
              "          google.colab.kernel.accessAllowed ? 'block' : 'none';\n",
              "\n",
              "        async function convertToInteractive(key) {\n",
              "          const element = document.querySelector('#df-e6ee261b-033f-4d49-9dcc-bd646638bf01');\n",
              "          const dataTable =\n",
              "            await google.colab.kernel.invokeFunction('convertToInteractive',\n",
              "                                                     [key], {});\n",
              "          if (!dataTable) return;\n",
              "\n",
              "          const docLinkHtml = 'Like what you see? Visit the ' +\n",
              "            '<a target=\"_blank\" href=https://colab.research.google.com/notebooks/data_table.ipynb>data table notebook</a>'\n",
              "            + ' to learn more about interactive tables.';\n",
              "          element.innerHTML = '';\n",
              "          dataTable['output_type'] = 'display_data';\n",
              "          await google.colab.output.renderOutput(dataTable, element);\n",
              "          const docLink = document.createElement('div');\n",
              "          docLink.innerHTML = docLinkHtml;\n",
              "          element.appendChild(docLink);\n",
              "        }\n",
              "      </script>\n",
              "    </div>\n",
              "  </div>\n",
              "  "
            ]
          },
          "metadata": {},
          "execution_count": 5
        }
      ]
    },
    {
      "cell_type": "code",
      "metadata": {
        "id": "B5-7qlkJjCxJ",
        "colab": {
          "base_uri": "https://localhost:8080/"
        },
        "outputId": "670f9637-0bee-4ef4-9e92-5aaa104d615b"
      },
      "source": [
        "dataset.shape"
      ],
      "execution_count": null,
      "outputs": [
        {
          "output_type": "execute_result",
          "data": {
            "text/plain": [
              "(50, 5)"
            ]
          },
          "metadata": {},
          "execution_count": 6
        }
      ]
    },
    {
      "cell_type": "code",
      "metadata": {
        "id": "VoZpfEQ0jCxJ",
        "colab": {
          "base_uri": "https://localhost:8080/",
          "height": 295
        },
        "outputId": "83effb74-471e-479f-e7d6-076e5a52806a"
      },
      "source": [
        "plt.scatter(dataset['Marketing Spend'], dataset['Profit'], alpha=0.5)\n",
        "plt.title('Scatter plot of Profit with Marketing Spend')\n",
        "plt.xlabel('Marketing Spend')\n",
        "plt.ylabel('Profit')\n",
        "plt.show()"
      ],
      "execution_count": null,
      "outputs": [
        {
          "output_type": "display_data",
          "data": {
            "text/plain": [
              "<Figure size 432x288 with 1 Axes>"
            ],
            "image/png": "[encoded data removed]"
          },
          "metadata": {
            "needs_background": "light"
          }
        }
      ]
    },
    {
      "cell_type": "code",
      "metadata": {
        "id": "aiwUW_ZbjCxK",
        "colab": {
          "base_uri": "https://localhost:8080/",
          "height": 295
        },
        "outputId": "e488247b-544f-4f2e-d047-0a66e4d6c48f"
      },
      "source": [
        "plt.scatter(dataset['R&D Spend'], dataset['Profit'], alpha=0.5)\n",
        "plt.title('Scatter plot of Profit with R&D Spend')\n",
        "plt.xlabel('R&D Spend')\n",
        "plt.ylabel('Profit')\n",
        "plt.show()"
      ],
      "execution_count": null,
      "outputs": [
        {
          "output_type": "display_data",
          "data": {
            "text/plain": [
              "<Figure size 432x288 with 1 Axes>"
            ],
            "image/png": "[encoded data removed]"
          },
          "metadata": {
            "needs_background": "light"
          }
        }
      ]
    },
    {
      "cell_type": "code",
      "metadata": {
        "id": "8SfhL_eZjCxK",
        "colab": {
          "base_uri": "https://localhost:8080/",
          "height": 295
        },
        "outputId": "812c58aa-fe67-42b4-f43a-4d0028b7067b"
      },
      "source": [
        "plt.scatter(dataset['Administration'], dataset['Profit'], alpha=0.5)\n",
        "plt.title('Scatter plot of Profit with Administration')\n",
        "plt.xlabel('Administration')\n",
        "plt.ylabel('Profit')\n",
        "plt.show()"
      ],
      "execution_count": null,
      "outputs": [
        {
          "output_type": "display_data",
          "data": {
            "text/plain": [
              "<Figure size 432x288 with 1 Axes>"
            ],
            "image/png": "[encoded data removed]"
          },
          "metadata": {
            "needs_background": "light"
          }
        }
      ]
    },
    {
      "cell_type": "code",
      "metadata": {
        "scrolled": true,
        "id": "r4Ko2IDIjCxK",
        "colab": {
          "base_uri": "https://localhost:8080/",
          "height": 435
        },
        "outputId": "2313ec7d-09e8-48e5-e4a2-3d73fcf9ee97"
      },
      "source": [
        "# Create the figure object \n",
        "ax = dataset.groupby(['State'])['Profit'].mean().plot.bar(\n",
        "    figsize = (10,5),\n",
        "    fontsize = 14\n",
        ")\n",
        "\n",
        "# Set the title\n",
        "ax.set_title(\"Average profit for different states where the startups operate\", fontsize = 20)\n",
        "\n",
        "# Set x and y-labels\n",
        "ax.set_xlabel(\"State\", fontsize = 15)\n",
        "ax.set_ylabel(\"Profit\", fontsize = 15)"
      ],
      "execution_count": null,
      "outputs": [
        {
          "output_type": "execute_result",
          "data": {
            "text/plain": [
              "Text(0, 0.5, 'Profit')"
            ]
          },
          "metadata": {},
          "execution_count": 10
        },
        {
          "output_type": "display_data",
          "data": {
            "text/plain": [
              "<Figure size 720x360 with 1 Axes>"
            ],
            "image/png": "[encoded data removed]"
          },
          "metadata": {
            "needs_background": "light"
          }
        }
      ]
    },
    {
      "cell_type": "code",
      "metadata": {
        "id": "4EpGYvY2jCxL",
        "colab": {
          "base_uri": "https://localhost:8080/"
        },
        "outputId": "6220c026-d6ff-452d-b02c-655ec04e1f51"
      },
      "source": [
        "dataset.State.value_counts()"
      ],
      "execution_count": null,
      "outputs": [
        {
          "output_type": "execute_result",
          "data": {
            "text/plain": [
              "New York      17\n",
              "California    17\n",
              "Florida       16\n",
              "Name: State, dtype: int64"
            ]
          },
          "metadata": {},
          "execution_count": 11
        }
      ]
    },
    {
      "cell_type": "code",
      "metadata": {
        "id": "vkF4Ve4tjCxL"
      },
      "source": [
        "# Create dummy variables for the catgeorical variable State\n",
        "dataset['NewYork_State'] = np.where(dataset['State']=='New York', 1, 0)\n",
        "dataset['California_State'] = np.where(dataset['State']=='California', 1, 0)\n",
        "dataset['Florida_State'] = np.where(dataset['State']=='Florida', 1, 0)\n",
        "\n",
        "# Drop the original column State from the dataframe\n",
        "dataset.drop(columns=['State'],axis=1,inplace=True)"
      ],
      "execution_count": null,
      "outputs": []
    },
    {
      "cell_type": "code",
      "metadata": {
        "id": "K6axq9hTjCxL",
        "colab": {
          "base_uri": "https://localhost:8080/",
          "height": 206
        },
        "outputId": "362f333f-fd82-4d81-a1c8-7171337d0a3c"
      },
      "source": [
        "dataset.head()"
      ],
      "execution_count": null,
      "outputs": [
        {
          "output_type": "execute_result",
          "data": {
            "text/plain": [
              "   R&D Spend  Administration  Marketing Spend     Profit  NewYork_State  \\\n",
              "0  165349.20       136897.80        471784.10  192261.83              1   \n",
              "1  162597.70       151377.59        443898.53  191792.06              0   \n",
              "2  153441.51       101145.55        407934.54  191050.39              0   \n",
              "3  144372.41       118671.85        383199.62  182901.99              1   \n",
              "4  142107.34        91391.77        366168.42  166187.94              0   \n",
              "\n",
              "   California_State  Florida_State  \n",
              "0                 0              0  \n",
              "1                 1              0  \n",
              "2                 0              1  \n",
              "3                 0              0  \n",
              "4                 0              1  "
            ],
            "text/html": [
              "\n",
              "  <div id=\"df-37afe45c-8f6b-46d7-bef2-789862f16cb0\">\n",
              "    <div class=\"colab-df-container\">\n",
              "      <div>\n",
              "<style scoped>\n",
              "    .dataframe tbody tr th:only-of-type {\n",
              "        vertical-align: middle;\n",
              "    }\n",
              "\n",
              "    .dataframe tbody tr th {\n",
              "        vertical-align: top;\n",
              "    }\n",
              "\n",
              "    .dataframe thead th {\n",
              "        text-align: right;\n",
              "    }\n",
              "</style>\n",
              "<table border=\"1\" class=\"dataframe\">\n",
              "  <thead>\n",
              "    <tr style=\"text-align: right;\">\n",
              "      <th></th>\n",
              "      <th>R&amp;D Spend</th>\n",
              "      <th>Administration</th>\n",
              "      <th>Marketing Spend</th>\n",
              "      <th>Profit</th>\n",
              "      <th>NewYork_State</th>\n",
              "      <th>California_State</th>\n",
              "      <th>Florida_State</th>\n",
              "    </tr>\n",
              "  </thead>\n",
              "  <tbody>\n",
              "    <tr>\n",
              "      <th>0</th>\n",
              "      <td>165349.20</td>\n",
              "      <td>136897.80</td>\n",
              "      <td>471784.10</td>\n",
              "      <td>192261.83</td>\n",
              "      <td>1</td>\n",
              "      <td>0</td>\n",
              "      <td>0</td>\n",
              "    </tr>\n",
              "    <tr>\n",
              "      <th>1</th>\n",
              "      <td>162597.70</td>\n",
              "      <td>151377.59</td>\n",
              "      <td>443898.53</td>\n",
              "      <td>191792.06</td>\n",
              "      <td>0</td>\n",
              "      <td>1</td>\n",
              "      <td>0</td>\n",
              "    </tr>\n",
              "    <tr>\n",
              "      <th>2</th>\n",
              "      <td>153441.51</td>\n",
              "      <td>101145.55</td>\n",
              "      <td>407934.54</td>\n",
              "      <td>191050.39</td>\n",
              "      <td>0</td>\n",
              "      <td>0</td>\n",
              "      <td>1</td>\n",
              "    </tr>\n",
              "    <tr>\n",
              "      <th>3</th>\n",
              "      <td>144372.41</td>\n",
              "      <td>118671.85</td>\n",
              "      <td>383199.62</td>\n",
              "      <td>182901.99</td>\n",
              "      <td>1</td>\n",
              "      <td>0</td>\n",
              "      <td>0</td>\n",
              "    </tr>\n",
              "    <tr>\n",
              "      <th>4</th>\n",
              "      <td>142107.34</td>\n",
              "      <td>91391.77</td>\n",
              "      <td>366168.42</td>\n",
              "      <td>166187.94</td>\n",
              "      <td>0</td>\n",
              "      <td>0</td>\n",
              "      <td>1</td>\n",
              "    </tr>\n",
              "  </tbody>\n",
              "</table>\n",
              "</div>\n",
              "      <button class=\"colab-df-convert\" onclick=\"convertToInteractive('df-37afe45c-8f6b-46d7-bef2-789862f16cb0')\"\n",
              "              title=\"Convert this dataframe to an interactive table.\"\n",
              "              style=\"display:none;\">\n",
              "        \n",
              "  <svg xmlns=\"http://www.w3.org/2000/svg\" height=\"24px\"viewBox=\"0 0 24 24\"\n",
              "       width=\"24px\">\n",
              "    <path d=\"M0 0h24v24H0V0z\" fill=\"none\"/>\n",
              "    <path d=\"M18.56 5.44l.94 2.06.94-2.06 2.06-.94-2.06-.94-.94-2.06-.94 2.06-2.06.94zm-11 1L8.5 8.5l.94-2.06 2.06-.94-2.06-.94L8.5 2.5l-.94 2.06-2.06.94zm10 10l.94 2.06.94-2.06 2.06-.94-2.06-.94-.94-2.06-.94 2.06-2.06.94z\"/><path d=\"M17.41 7.96l-1.37-1.37c-.4-.4-.92-.59-1.43-.59-.52 0-1.04.2-1.43.59L10.3 9.45l-7.72 7.72c-.78.78-.78 2.05 0 2.83L4 21.41c.39.39.9.59 1.41.59.51 0 1.02-.2 1.41-.59l7.78-7.78 2.81-2.81c.8-.78.8-2.07 0-2.86zM5.41 20L4 18.59l7.72-7.72 1.47 1.35L5.41 20z\"/>\n",
              "  </svg>\n",
              "      </button>\n",
              "      \n",
              "  <style>\n",
              "    .colab-df-container {\n",
              "      display:flex;\n",
              "      flex-wrap:wrap;\n",
              "      gap: 12px;\n",
              "    }\n",
              "\n",
              "    .colab-df-convert {\n",
              "      background-color: #E8F0FE;\n",
              "      border: none;\n",
              "      border-radius: 50%;\n",
              "      cursor: pointer;\n",
              "      display: none;\n",
              "      fill: #1967D2;\n",
              "      height: 32px;\n",
              "      padding: 0 0 0 0;\n",
              "      width: 32px;\n",
              "    }\n",
              "\n",
              "    .colab-df-convert:hover {\n",
              "      background-color: #E2EBFA;\n",
              "      box-shadow: 0px 1px 2px rgba(60, 64, 67, 0.3), 0px 1px 3px 1px rgba(60, 64, 67, 0.15);\n",
              "      fill: #174EA6;\n",
              "    }\n",
              "\n",
              "    [theme=dark] .colab-df-convert {\n",
              "      background-color: #3B4455;\n",
              "      fill: #D2E3FC;\n",
              "    }\n",
              "\n",
              "    [theme=dark] .colab-df-convert:hover {\n",
              "      background-color: #434B5C;\n",
              "      box-shadow: 0px 1px 3px 1px rgba(0, 0, 0, 0.15);\n",
              "      filter: drop-shadow(0px 1px 2px rgba(0, 0, 0, 0.3));\n",
              "      fill: #FFFFFF;\n",
              "    }\n",
              "  </style>\n",
              "\n",
              "      <script>\n",
              "        const buttonEl =\n",
              "          document.querySelector('#df-37afe45c-8f6b-46d7-bef2-789862f16cb0 button.colab-df-convert');\n",
              "        buttonEl.style.display =\n",
              "          google.colab.kernel.accessAllowed ? 'block' : 'none';\n",
              "\n",
              "        async function convertToInteractive(key) {\n",
              "          const element = document.querySelector('#df-37afe45c-8f6b-46d7-bef2-789862f16cb0');\n",
              "          const dataTable =\n",
              "            await google.colab.kernel.invokeFunction('convertToInteractive',\n",
              "                                                     [key], {});\n",
              "          if (!dataTable) return;\n",
              "\n",
              "          const docLinkHtml = 'Like what you see? Visit the ' +\n",
              "            '<a target=\"_blank\" href=https://colab.research.google.com/notebooks/data_table.ipynb>data table notebook</a>'\n",
              "            + ' to learn more about interactive tables.';\n",
              "          element.innerHTML = '';\n",
              "          dataTable['output_type'] = 'display_data';\n",
              "          await google.colab.output.renderOutput(dataTable, element);\n",
              "          const docLink = document.createElement('div');\n",
              "          docLink.innerHTML = docLinkHtml;\n",
              "          element.appendChild(docLink);\n",
              "        }\n",
              "      </script>\n",
              "    </div>\n",
              "  </div>\n",
              "  "
            ]
          },
          "metadata": {},
          "execution_count": 13
        }
      ]
    },
    {
      "cell_type": "code",
      "metadata": {
        "id": "HKfVT8AHjCxL"
      },
      "source": [
        "dependent_variable = 'Profit'"
      ],
      "execution_count": null,
      "outputs": []
    },
    {
      "cell_type": "code",
      "metadata": {
        "id": "BFF1rXe-jCxM"
      },
      "source": [
        "# Create a list of independent variables\n",
        "independent_variables = list(set(dataset.columns.tolist()) - {dependent_variable})"
      ],
      "execution_count": null,
      "outputs": []
    },
    {
      "cell_type": "code",
      "metadata": {
        "id": "PwuXF6FAjCxM",
        "colab": {
          "base_uri": "https://localhost:8080/"
        },
        "outputId": "02938eab-808d-405b-feec-27cb8b123eba"
      },
      "source": [
        "independent_variables"
      ],
      "execution_count": null,
      "outputs": [
        {
          "output_type": "execute_result",
          "data": {
            "text/plain": [
              "['Marketing Spend',\n",
              " 'California_State',\n",
              " 'Florida_State',\n",
              " 'R&D Spend',\n",
              " 'NewYork_State',\n",
              " 'Administration']"
            ]
          },
          "metadata": {},
          "execution_count": 16
        }
      ]
    },
    {
      "cell_type": "code",
      "metadata": {
        "id": "iwvh6DYUjCxM"
      },
      "source": [
        "# Create the data of independent variables\n",
        "X = dataset[independent_variables].values\n",
        "\n",
        "# Create the dependent variable data\n",
        "y = dataset[dependent_variable].values"
      ],
      "execution_count": null,
      "outputs": []
    },
    {
      "cell_type": "code",
      "metadata": {
        "id": "u0pTjm94jCxN"
      },
      "source": [
        "# Splitting the dataset into the Training set and Test set\n",
        "X_train, X_test, y_train, y_test = train_test_split(X, y, test_size = 0.2, random_state = 0)"
      ],
      "execution_count": null,
      "outputs": []
    },
    {
      "cell_type": "code",
      "metadata": {
        "id": "ItSua8fKjCxN"
      },
      "source": [
        "# Transforming data\n",
        "scaler = MinMaxScaler()\n",
        "X_train = scaler.fit_transform(X_train)\n",
        "X_test = scaler.transform(X_test)"
      ],
      "execution_count": null,
      "outputs": []
    },
    {
      "cell_type": "code",
      "metadata": {
        "id": "UAZ0eFcOjCxN",
        "colab": {
          "base_uri": "https://localhost:8080/"
        },
        "outputId": "36078de1-9015-4361-9974-9b62d3b7a194"
      },
      "source": [
        "X_train[0:10]"
      ],
      "execution_count": null,
      "outputs": [
        {
          "output_type": "execute_result",
          "data": {
            "text/plain": [
              "array([[0.45494286, 0.        , 1.        , 0.33561668, 0.        ,\n",
              "        0.48655174],\n",
              "       [0.43561799, 0.        , 0.        , 0.2782839 , 1.        ,\n",
              "        0.3173015 ],\n",
              "       [0.28413435, 0.        , 1.        , 0.45557444, 0.        ,\n",
              "        0.87258866],\n",
              "       [0.44680961, 1.        , 0.        , 0.2807759 , 0.        ,\n",
              "        1.        ],\n",
              "       [0.62511553, 0.        , 1.        , 0.55488118, 0.        ,\n",
              "        0.59103645],\n",
              "       [0.68649342, 0.        , 1.        , 0.7880179 , 0.        ,\n",
              "        0.88568959],\n",
              "       [0.54370828, 0.        , 1.        , 0.72539353, 0.        ,\n",
              "        0.98922572],\n",
              "       [0.0040356 , 0.        , 0.        , 0.0060492 , 1.        ,\n",
              "        0.6847981 ],\n",
              "       [0.        , 0.        , 0.        , 0.00327821, 1.        ,\n",
              "        0.00432296],\n",
              "       [0.22709197, 0.        , 0.        , 0.39676926, 1.        ,\n",
              "        0.95618996]])"
            ]
          },
          "metadata": {},
          "execution_count": 20
        }
      ]
    },
    {
      "cell_type": "code",
      "metadata": {
        "id": "5KalyOkljCxN",
        "colab": {
          "base_uri": "https://localhost:8080/"
        },
        "outputId": "179a0ce0-587a-45f5-dadd-638266d6c8a0"
      },
      "source": [
        "# Fitting Multiple Linear Regression to the Training set\n",
        "regressor = LinearRegression()\n",
        "regressor.fit(X_train, y_train)"
      ],
      "execution_count": null,
      "outputs": [
        {
          "output_type": "execute_result",
          "data": {
            "text/plain": [
              "LinearRegression()"
            ]
          },
          "metadata": {},
          "execution_count": 21
        }
      ]
    },
    {
      "cell_type": "code",
      "metadata": {
        "id": "hlsE-TkojCxO"
      },
      "source": [
        "# Predicting the Test set results\n",
        "y_pred = regressor.predict(X_test)"
      ],
      "execution_count": null,
      "outputs": []
    },
    {
      "cell_type": "code",
      "metadata": {
        "id": "lJUpat5kjCxO",
        "colab": {
          "base_uri": "https://localhost:8080/"
        },
        "outputId": "44538d26-4b49-42e7-be79-7daa38397a60"
      },
      "source": [
        "math.sqrt(mean_squared_error(y_test, y_pred))"
      ],
      "execution_count": null,
      "outputs": [
        {
          "output_type": "execute_result",
          "data": {
            "text/plain": [
              "9137.990152794944"
            ]
          },
          "metadata": {},
          "execution_count": 23
        }
      ]
    },
    {
      "cell_type": "code",
      "metadata": {
        "id": "tLCyVe2WjCxO",
        "colab": {
          "base_uri": "https://localhost:8080/"
        },
        "outputId": "b147ccbf-ef51-4f41-8b67-d6896ea56b8e"
      },
      "source": [
        "r2_score(y_test, y_pred)"
      ],
      "execution_count": null,
      "outputs": [
        {
          "output_type": "execute_result",
          "data": {
            "text/plain": [
              "0.9347068473282425"
            ]
          },
          "metadata": {},
          "execution_count": 24
        }
      ]
    },
    {
      "cell_type": "markdown",
      "metadata": {
        "id": "y_6uuF_ldgnJ"
      },
      "source": [
        "# Validating Assumptions"
      ]
    },
    {
      "cell_type": "markdown",
      "source": [
        "dependent and independent are linear with each other"
      ],
      "metadata": {
        "id": "G3MIXG9dy5rI"
      }
    },
    {
      "cell_type": "code",
      "metadata": {
        "id": "hyVEn4C5d630"
      },
      "source": [
        "y_train_pred = regressor.predict(X_train)\n",
        "y_test_pred = regressor.predict(X_test)\n"
      ],
      "execution_count": null,
      "outputs": []
    },
    {
      "cell_type": "code",
      "metadata": {
        "id": "Pk6KKEbFpMek"
      },
      "source": [
        "#error(residual) = Actual value - Predicted value\n",
        "\n",
        "residuals_train = y_train - y_train_pred\n",
        "residuals_test = y_test - y_test_pred"
      ],
      "execution_count": null,
      "outputs": []
    },
    {
      "cell_type": "markdown",
      "metadata": {
        "id": "c_oRnIaEfMyy"
      },
      "source": [
        "## Lets check for heteroscedasticity:"
      ]
    },
    {
      "cell_type": "code",
      "metadata": {
        "colab": {
          "base_uri": "https://localhost:8080/",
          "height": 295
        },
        "id": "i6yyreveeKM1",
        "outputId": "c0002d11-1e98-4f11-8ec4-de0c58bad3fa"
      },
      "source": [
        "#  Plotting scatter plot between residual and fitted values\n",
        "plt.scatter(y_train_pred, residuals_train,c='red')\n",
        "plt.title('Scatter plot between residual and actual profit')\n",
        "plt.xlabel('Predicted Profit')\n",
        "plt.ylabel('Residual')\n",
        "plt.show()"
      ],
      "execution_count": null,
      "outputs": [
        {
          "output_type": "display_data",
          "data": {
            "text/plain": [
              "<Figure size 432x288 with 1 Axes>"
            ],
            "image/png": "[encoded data removed]"
          },
          "metadata": {
            "needs_background": "light"
          }
        }
      ]
    },
    {
      "cell_type": "markdown",
      "metadata": {
        "id": "JtE7pYfee598"
      },
      "source": [
        "Seems like there is no significant pattern visible. So the assumption of homoscedasticity is valid."
      ]
    },
    {
      "cell_type": "markdown",
      "metadata": {
        "id": "ji4gYerDfYbO"
      },
      "source": [
        "## Let's check if the mean of residuals is almost zero:"
      ]
    },
    {
      "cell_type": "code",
      "metadata": {
        "colab": {
          "base_uri": "https://localhost:8080/"
        },
        "id": "Y5qNkKTWe0Hk",
        "outputId": "78bc7b10-e58f-49e9-8f2d-704ea307da6d"
      },
      "source": [
        "round((np.mean(residuals_train)))"
      ],
      "execution_count": null,
      "outputs": [
        {
          "output_type": "execute_result",
          "data": {
            "text/plain": [
              "0"
            ]
          },
          "metadata": {},
          "execution_count": 28
        }
      ]
    },
    {
      "cell_type": "markdown",
      "metadata": {
        "id": "bU4MSIU6fpKe"
      },
      "source": [
        "Yes, the mean of residuals is almost zero!"
      ]
    },
    {
      "cell_type": "markdown",
      "metadata": {
        "id": "A4Dtz1cJf0so"
      },
      "source": [
        "## Let's check for multicollinearity:"
      ]
    },
    {
      "cell_type": "code",
      "metadata": {
        "colab": {
          "base_uri": "https://localhost:8080/",
          "height": 237
        },
        "id": "BZIJSTwvgC-u",
        "outputId": "b96e93ca-eb7d-42b7-89ce-58fbbac22c89"
      },
      "source": [
        "dataset[independent_variables].corr()"
      ],
      "execution_count": null,
      "outputs": [
        {
          "output_type": "execute_result",
          "data": {
            "text/plain": [
              "                  Marketing Spend  California_State  Florida_State  R&D Spend  \\\n",
              "Marketing Spend          1.000000         -0.168875       0.205685   0.724248   \n",
              "California_State        -0.168875          1.000000      -0.492366  -0.143165   \n",
              "Florida_State            0.205685         -0.492366       1.000000   0.105711   \n",
              "R&D Spend                0.724248         -0.143165       0.105711   1.000000   \n",
              "NewYork_State           -0.033670         -0.515152      -0.492366   0.039068   \n",
              "Administration          -0.032154         -0.015478       0.010493   0.241955   \n",
              "\n",
              "                  NewYork_State  Administration  \n",
              "Marketing Spend       -0.033670       -0.032154  \n",
              "California_State      -0.515152       -0.015478  \n",
              "Florida_State         -0.492366        0.010493  \n",
              "R&D Spend              0.039068        0.241955  \n",
              "NewYork_State          1.000000        0.005145  \n",
              "Administration         0.005145        1.000000  "
            ],
            "text/html": [
              "\n",
              "  <div id=\"df-75c05a7a-f557-475f-ab3a-87e849744bca\">\n",
              "    <div class=\"colab-df-container\">\n",
              "      <div>\n",
              "<style scoped>\n",
              "    .dataframe tbody tr th:only-of-type {\n",
              "        vertical-align: middle;\n",
              "    }\n",
              "\n",
              "    .dataframe tbody tr th {\n",
              "        vertical-align: top;\n",
              "    }\n",
              "\n",
              "    .dataframe thead th {\n",
              "        text-align: right;\n",
              "    }\n",
              "</style>\n",
              "<table border=\"1\" class=\"dataframe\">\n",
              "  <thead>\n",
              "    <tr style=\"text-align: right;\">\n",
              "      <th></th>\n",
              "      <th>Marketing Spend</th>\n",
              "      <th>California_State</th>\n",
              "      <th>Florida_State</th>\n",
              "      <th>R&amp;D Spend</th>\n",
              "      <th>NewYork_State</th>\n",
              "      <th>Administration</th>\n",
              "    </tr>\n",
              "  </thead>\n",
              "  <tbody>\n",
              "    <tr>\n",
              "      <th>Marketing Spend</th>\n",
              "      <td>1.000000</td>\n",
              "      <td>-0.168875</td>\n",
              "      <td>0.205685</td>\n",
              "      <td>0.724248</td>\n",
              "      <td>-0.033670</td>\n",
              "      <td>-0.032154</td>\n",
              "    </tr>\n",
              "    <tr>\n",
              "      <th>California_State</th>\n",
              "      <td>-0.168875</td>\n",
              "      <td>1.000000</td>\n",
              "      <td>-0.492366</td>\n",
              "      <td>-0.143165</td>\n",
              "      <td>-0.515152</td>\n",
              "      <td>-0.015478</td>\n",
              "    </tr>\n",
              "    <tr>\n",
              "      <th>Florida_State</th>\n",
              "      <td>0.205685</td>\n",
              "      <td>-0.492366</td>\n",
              "      <td>1.000000</td>\n",
              "      <td>0.105711</td>\n",
              "      <td>-0.492366</td>\n",
              "      <td>0.010493</td>\n",
              "    </tr>\n",
              "    <tr>\n",
              "      <th>R&amp;D Spend</th>\n",
              "      <td>0.724248</td>\n",
              "      <td>-0.143165</td>\n",
              "      <td>0.105711</td>\n",
              "      <td>1.000000</td>\n",
              "      <td>0.039068</td>\n",
              "      <td>0.241955</td>\n",
              "    </tr>\n",
              "    <tr>\n",
              "      <th>NewYork_State</th>\n",
              "      <td>-0.033670</td>\n",
              "      <td>-0.515152</td>\n",
              "      <td>-0.492366</td>\n",
              "      <td>0.039068</td>\n",
              "      <td>1.000000</td>\n",
              "      <td>0.005145</td>\n",
              "    </tr>\n",
              "    <tr>\n",
              "      <th>Administration</th>\n",
              "      <td>-0.032154</td>\n",
              "      <td>-0.015478</td>\n",
              "      <td>0.010493</td>\n",
              "      <td>0.241955</td>\n",
              "      <td>0.005145</td>\n",
              "      <td>1.000000</td>\n",
              "    </tr>\n",
              "  </tbody>\n",
              "</table>\n",
              "</div>\n",
              "      <button class=\"colab-df-convert\" onclick=\"convertToInteractive('df-75c05a7a-f557-475f-ab3a-87e849744bca')\"\n",
              "              title=\"Convert this dataframe to an interactive table.\"\n",
              "              style=\"display:none;\">\n",
              "        \n",
              "  <svg xmlns=\"http://www.w3.org/2000/svg\" height=\"24px\"viewBox=\"0 0 24 24\"\n",
              "       width=\"24px\">\n",
              "    <path d=\"M0 0h24v24H0V0z\" fill=\"none\"/>\n",
              "    <path d=\"M18.56 5.44l.94 2.06.94-2.06 2.06-.94-2.06-.94-.94-2.06-.94 2.06-2.06.94zm-11 1L8.5 8.5l.94-2.06 2.06-.94-2.06-.94L8.5 2.5l-.94 2.06-2.06.94zm10 10l.94 2.06.94-2.06 2.06-.94-2.06-.94-.94-2.06-.94 2.06-2.06.94z\"/><path d=\"M17.41 7.96l-1.37-1.37c-.4-.4-.92-.59-1.43-.59-.52 0-1.04.2-1.43.59L10.3 9.45l-7.72 7.72c-.78.78-.78 2.05 0 2.83L4 21.41c.39.39.9.59 1.41.59.51 0 1.02-.2 1.41-.59l7.78-7.78 2.81-2.81c.8-.78.8-2.07 0-2.86zM5.41 20L4 18.59l7.72-7.72 1.47 1.35L5.41 20z\"/>\n",
              "  </svg>\n",
              "      </button>\n",
              "      \n",
              "  <style>\n",
              "    .colab-df-container {\n",
              "      display:flex;\n",
              "      flex-wrap:wrap;\n",
              "      gap: 12px;\n",
              "    }\n",
              "\n",
              "    .colab-df-convert {\n",
              "      background-color: #E8F0FE;\n",
              "      border: none;\n",
              "      border-radius: 50%;\n",
              "      cursor: pointer;\n",
              "      display: none;\n",
              "      fill: #1967D2;\n",
              "      height: 32px;\n",
              "      padding: 0 0 0 0;\n",
              "      width: 32px;\n",
              "    }\n",
              "\n",
              "    .colab-df-convert:hover {\n",
              "      background-color: #E2EBFA;\n",
              "      box-shadow: 0px 1px 2px rgba(60, 64, 67, 0.3), 0px 1px 3px 1px rgba(60, 64, 67, 0.15);\n",
              "      fill: #174EA6;\n",
              "    }\n",
              "\n",
              "    [theme=dark] .colab-df-convert {\n",
              "      background-color: #3B4455;\n",
              "      fill: #D2E3FC;\n",
              "    }\n",
              "\n",
              "    [theme=dark] .colab-df-convert:hover {\n",
              "      background-color: #434B5C;\n",
              "      box-shadow: 0px 1px 3px 1px rgba(0, 0, 0, 0.15);\n",
              "      filter: drop-shadow(0px 1px 2px rgba(0, 0, 0, 0.3));\n",
              "      fill: #FFFFFF;\n",
              "    }\n",
              "  </style>\n",
              "\n",
              "      <script>\n",
              "        const buttonEl =\n",
              "          document.querySelector('#df-75c05a7a-f557-475f-ab3a-87e849744bca button.colab-df-convert');\n",
              "        buttonEl.style.display =\n",
              "          google.colab.kernel.accessAllowed ? 'block' : 'none';\n",
              "\n",
              "        async function convertToInteractive(key) {\n",
              "          const element = document.querySelector('#df-75c05a7a-f557-475f-ab3a-87e849744bca');\n",
              "          const dataTable =\n",
              "            await google.colab.kernel.invokeFunction('convertToInteractive',\n",
              "                                                     [key], {});\n",
              "          if (!dataTable) return;\n",
              "\n",
              "          const docLinkHtml = 'Like what you see? Visit the ' +\n",
              "            '<a target=\"_blank\" href=https://colab.research.google.com/notebooks/data_table.ipynb>data table notebook</a>'\n",
              "            + ' to learn more about interactive tables.';\n",
              "          element.innerHTML = '';\n",
              "          dataTable['output_type'] = 'display_data';\n",
              "          await google.colab.output.renderOutput(dataTable, element);\n",
              "          const docLink = document.createElement('div');\n",
              "          docLink.innerHTML = docLinkHtml;\n",
              "          element.appendChild(docLink);\n",
              "        }\n",
              "      </script>\n",
              "    </div>\n",
              "  </div>\n",
              "  "
            ]
          },
          "metadata": {},
          "execution_count": 29
        }
      ]
    },
    {
      "cell_type": "code",
      "metadata": {
        "colab": {
          "base_uri": "https://localhost:8080/",
          "height": 614
        },
        "id": "l3-crWdrfkCx",
        "outputId": "17e864da-386a-431e-ada6-332c92757bdf"
      },
      "source": [
        "plt.figure(figsize=(15, 10))\n",
        "sns.heatmap(dataset[independent_variables].corr(),  annot=True, cmap=\"YlGnBu\")"
      ],
      "execution_count": null,
      "outputs": [
        {
          "output_type": "execute_result",
          "data": {
            "text/plain": [
              "<matplotlib.axes._subplots.AxesSubplot at 0x7f555f86a050>"
            ]
          },
          "metadata": {},
          "execution_count": 30
        },
        {
          "output_type": "display_data",
          "data": {
            "text/plain": [
              "<Figure size 1080x720 with 2 Axes>"
            ],
            "image/png": "[encoded data removed]"
          },
          "metadata": {
            "needs_background": "light"
          }
        }
      ]
    },
    {
      "cell_type": "markdown",
      "metadata": {
        "id": "W_we86WYgQY_"
      },
      "source": [
        "i. Correlation between marketing spend and R&D spend is very high, hence it needs attention\n",
        "\n",
        "ii. Ignoring the correlations between binary variables (state dummy variables) as of now"
      ]
    },
    {
      "cell_type": "markdown",
      "metadata": {
        "id": "akojvVvMg9-o"
      },
      "source": [
        "# Evaluation Metrics"
      ]
    },
    {
      "cell_type": "code",
      "metadata": {
        "id": "f1k88RsKhizk"
      },
      "source": [
        "def print_metrics(actual, predicted):\n",
        "  print('MSE is {}'.format(mean_squared_error(actual, predicted)))\n",
        "  print('RMSE is {}'.format(math.sqrt(mean_squared_error(actual, predicted))))\n",
        "  print('RMSE is {}'.format(r2_score(actual, predicted)))\n",
        "  print('MAE is {}'.format(mean_absolute_error(actual, predicted)))\n",
        "  print('MAPE is {}'.format(np.mean(np.abs((actual - predicted) / actual)) * 100))\n",
        "  "
      ],
      "execution_count": null,
      "outputs": []
    },
    {
      "cell_type": "code",
      "metadata": {
        "colab": {
          "base_uri": "https://localhost:8080/"
        },
        "id": "H9ngMUSVf4JY",
        "outputId": "d6555aa8-4c91-4dce-abc0-61bed677113a"
      },
      "source": [
        "# Training dataset metrics\n",
        "print_metrics(y_train, y_train_pred)"
      ],
      "execution_count": null,
      "outputs": [
        {
          "output_type": "stream",
          "name": "stdout",
          "text": [
            "MSE is 81571001.8007737\n",
            "RMSE is 9031.66661257897\n",
            "RMSE is 0.9501847627493607\n",
            "MAE is 6341.535758081858\n",
            "MAPE is 11.643543574245022\n"
          ]
        }
      ]
    },
    {
      "cell_type": "code",
      "metadata": {
        "colab": {
          "base_uri": "https://localhost:8080/"
        },
        "id": "EvxV9jtYhd5c",
        "outputId": "27418c25-8b75-4f85-9cf1-8bb8a85d50cf"
      },
      "source": [
        "# Test dataset metrics\n",
        "print_metrics(y_test, y_test_pred)"
      ],
      "execution_count": null,
      "outputs": [
        {
          "output_type": "stream",
          "name": "stdout",
          "text": [
            "MSE is 83502864.03257735\n",
            "RMSE is 9137.990152794944\n",
            "RMSE is 0.9347068473282425\n",
            "MAE is 7514.293659640604\n",
            "MAPE is 6.4497540853555\n"
          ]
        }
      ]
    },
    {
      "cell_type": "markdown",
      "metadata": {
        "id": "Y_vbvY5JjasY"
      },
      "source": [
        "Training set errors and test set errors are almost same, so no underfitting or overfitting detected."
      ]
    },
    {
      "cell_type": "code",
      "metadata": {
        "id": "OL7EacirjNXr"
      },
      "source": [
        "# Adjusted R2\n",
        "\n",
        "def adjusted_r2(n, k, actual, predicted):\n",
        "  return 1 - (((n-1)/(n-k-1))*(1-r2_score(actual, predicted)))"
      ],
      "execution_count": null,
      "outputs": []
    },
    {
      "cell_type": "code",
      "metadata": {
        "colab": {
          "base_uri": "https://localhost:8080/"
        },
        "id": "wt11DUXNjqiq",
        "outputId": "68f8b40a-c0f2-4522-c5ac-79b4946aae0b"
      },
      "source": [
        "adjusted_r2(len(y_train),len(independent_variables), y_train, y_train_pred)"
      ],
      "execution_count": null,
      "outputs": [
        {
          "output_type": "execute_result",
          "data": {
            "text/plain": [
              "0.9411274468856081"
            ]
          },
          "metadata": {},
          "execution_count": 35
        }
      ]
    },
    {
      "cell_type": "markdown",
      "source": [
        "checking result"
      ],
      "metadata": {
        "id": "SalUwioEwrZf"
      }
    },
    {
      "cell_type": "code",
      "metadata": {
        "id": "wWHYYsvJkAzy"
      },
      "source": [
        "x=[[471784.100,0,0,165349.20,1,136897.80]]\n",
        "x1= scaler.transform(x)\n",
        "y_pred = regressor.predict(x1)"
      ],
      "execution_count": null,
      "outputs": []
    },
    {
      "cell_type": "code",
      "source": [
        "y_pred[0]"
      ],
      "metadata": {
        "id": "7R_zESzNwulQ",
        "outputId": "6718c0a1-1a54-4fd5-b8bc-61bbb6db98b6",
        "colab": {
          "base_uri": "https://localhost:8080/"
        }
      },
      "execution_count": null,
      "outputs": [
        {
          "output_type": "execute_result",
          "data": {
            "text/plain": [
              "192919.57537462088"
            ]
          },
          "metadata": {},
          "execution_count": 40
        }
      ]
    },
    {
      "cell_type": "code",
      "source": [
        "np.round(y_pred[0],2)"
      ],
      "metadata": {
        "id": "ji1Vxsrcwwf_",
        "outputId": "64433ee6-d71a-4a62-d641-bb88b5ae4241",
        "colab": {
          "base_uri": "https://localhost:8080/"
        }
      },
      "execution_count": null,
      "outputs": [
        {
          "output_type": "execute_result",
          "data": {
            "text/plain": [
              "192919.58"
            ]
          },
          "metadata": {},
          "execution_count": 41
        }
      ]
    }
  ]
}